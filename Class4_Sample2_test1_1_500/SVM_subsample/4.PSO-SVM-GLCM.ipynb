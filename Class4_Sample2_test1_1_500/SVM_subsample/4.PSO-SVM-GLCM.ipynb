{
 "cells": [
  {
   "cell_type": "code",
   "execution_count": 3,
   "metadata": {},
   "outputs": [],
   "source": [
    "# coding: utf-8  \n",
    "import numpy as np    \n",
    "import random     \n",
    "import matplotlib.pyplot as plt \n",
    "from sklearn.neighbors import KNeighborsClassifier\n",
    "from sklearn.neural_network import MLPClassifier\n",
    "from sklearn.svm import SVC\n",
    "from sklearn.cross_validation import train_test_split\n",
    "from sklearn.preprocessing import StandardScaler, LabelEncoder\n",
    "from sklearn.model_selection import StratifiedShuffleSplit\n",
    "from imutils import paths\n",
    "import imutils\n",
    "import cv2\n",
    "import os\n",
    "\n",
    "import time\n"
   ]
  },
  {
   "cell_type": "code",
   "execution_count": 4,
   "metadata": {},
   "outputs": [
    {
     "name": "stdout",
     "output_type": "stream",
     "text": [
      "(4000,)\n",
      "[0 0 0 ... 3 3 3]\n",
      "(312,)\n",
      "[0 0 0 0 0 0 0 0 0 0 0 0 0 0 0 0 0 0 0 0 0 0 0 0 0 0 0 0 0 0 0 0 0 0 0 0 0\n",
      " 0 0 0 0 0 0 0 0 0 0 0 0 0 0 0 0 0 0 0 0 0 0 0 0 0 0 0 0 0 0 0 0 0 0 0 0 0\n",
      " 0 0 0 0 1 1 1 1 1 1 1 1 1 1 1 1 1 1 1 1 1 1 1 1 1 1 1 1 1 1 1 1 1 1 1 1 1\n",
      " 1 1 1 1 1 1 1 1 1 1 1 1 1 1 1 1 1 1 1 1 1 1 1 1 1 1 1 1 1 1 1 1 1 1 1 1 1\n",
      " 1 1 1 1 1 1 1 1 2 2 2 2 2 2 2 2 2 2 2 2 2 2 2 2 2 2 2 2 2 2 2 2 2 2 2 2 2\n",
      " 2 2 2 2 2 2 2 2 2 2 2 2 2 2 2 2 2 2 2 2 2 2 2 2 2 2 2 2 2 2 2 2 2 2 2 2 2\n",
      " 2 2 2 2 2 2 2 2 2 2 2 2 3 3 3 3 3 3 3 3 3 3 3 3 3 3 3 3 3 3 3 3 3 3 3 3 3\n",
      " 3 3 3 3 3 3 3 3 3 3 3 3 3 3 3 3 3 3 3 3 3 3 3 3 3 3 3 3 3 3 3 3 3 3 3 3 3\n",
      " 3 3 3 3 3 3 3 3 3 3 3 3 3 3 3 3]\n"
     ]
    }
   ],
   "source": [
    "trainLabels = np.load('./trainLabels.npy')\n",
    "testLabels= np.load('./testLabels.npy')\n",
    "\n",
    "print(trainLabels.shape)\n",
    "print(trainLabels)\n",
    "print(testLabels.shape)\n",
    "print(testLabels)"
   ]
  },
  {
   "cell_type": "code",
   "execution_count": 5,
   "metadata": {},
   "outputs": [
    {
     "name": "stdout",
     "output_type": "stream",
     "text": [
      "(4000, 12)\n",
      "[[-1.5672622   4.997602    3.256746   ...  5.569707    3.008761\n",
      "  -4.171601  ]\n",
      " [-0.06704053 -0.33219045 -0.614357   ... -0.40555623 -0.63822323\n",
      "  -0.55334884]\n",
      " [-0.81832397 -0.14212298  0.6907782  ... -0.05932309  0.8367101\n",
      "  -1.160078  ]\n",
      " ...\n",
      " [ 0.11273974  0.48636708  0.05188297 ...  0.4093857  -0.13587716\n",
      "   0.46438438]\n",
      " [ 1.4998347  -0.50115    -1.5170681  ... -0.529878   -1.50738\n",
      "   1.2993535 ]\n",
      " [-0.6796106   1.1240617   0.7615545  ...  1.554326    0.65249527\n",
      "  -1.0104078 ]]\n",
      "(312, 12)\n",
      "[[-1.1490943   0.26514378  1.4060144  ...  0.07734217  1.1370916\n",
      "  -0.0431125 ]\n",
      " [-1.4275372   2.051725    2.3237226  ...  1.2675661   1.958294\n",
      "  -2.2684367 ]\n",
      " [ 0.13685971 -0.19549513 -0.27787662 ... -0.34282523 -0.42548382\n",
      "   0.22197402]\n",
      " ...\n",
      " [ 0.04203296 -0.25219247 -0.5327424  ... -0.3937919  -0.69834566\n",
      "   0.7424964 ]\n",
      " [-1.3448169   1.58352     2.127301   ...  1.3554909   1.9169172\n",
      "  -2.619457  ]\n",
      " [-1.1660737   1.3551643   1.6111218  ...  1.1709539   1.4616672\n",
      "  -1.8047621 ]]\n"
     ]
    }
   ],
   "source": [
    "trainImage_GLCM = np.load('./trainImage_GLCM.npy')\n",
    "testImage_GLCM = np.load('./testImage_GLCM.npy')\n",
    "print(trainImage_GLCM.shape)\n",
    "print(trainImage_GLCM)\n",
    "print(testImage_GLCM.shape)\n",
    "print(testImage_GLCM)"
   ]
  },
  {
   "cell_type": "code",
   "execution_count": 6,
   "metadata": {},
   "outputs": [
    {
     "name": "stdout",
     "output_type": "stream",
     "text": [
      "(4000, 12)\n",
      "12\n",
      "0.08333333333333333\n"
     ]
    }
   ],
   "source": [
    "n_feature = trainImage_GLCM.shape[1]\n",
    "gamma_init = 1/n_feature\n",
    "print (trainImage_GLCM.shape)\n",
    "print (n_feature)\n",
    "print (gamma_init)"
   ]
  },
  {
   "cell_type": "code",
   "execution_count": 7,
   "metadata": {},
   "outputs": [
    {
     "name": "stdout",
     "output_type": "stream",
     "text": [
      "\n",
      "\n",
      "[INFO] GLCM accuracy...\n",
      "[INFO] SVM-SVC accuracy: 29.17%\n"
     ]
    },
    {
     "name": "stderr",
     "output_type": "stream",
     "text": [
      "/home/huiqy/anaconda3/lib/python3.6/site-packages/sklearn/svm/base.py:218: ConvergenceWarning: Solver terminated early (max_iter=200).  Consider pre-processing your data with StandardScaler or MinMaxScaler.\n",
      "  % self.max_iter, ConvergenceWarning)\n"
     ]
    }
   ],
   "source": [
    "# SVC\n",
    "print(\"\\n\")\n",
    "print(\"[INFO] GLCM accuracy...\")\n",
    "model_SVM = SVC(max_iter=200, class_weight='balanced' )\n",
    "model_SVM.fit(trainImage_GLCM, trainLabels)\n",
    "acc = model_SVM.score(testImage_GLCM, testLabels)\n",
    "print(\"[INFO] SVM-SVC accuracy: {:.2f}%\".format(acc * 100))"
   ]
  },
  {
   "cell_type": "code",
   "execution_count": 8,
   "metadata": {},
   "outputs": [
    {
     "name": "stdout",
     "output_type": "stream",
     "text": [
      "\n",
      "\n",
      "[INFO] GLCM accuracy...\n",
      "[INFO] SVM-SVC accuracy: 47.44%\n"
     ]
    }
   ],
   "source": [
    "# SVC\n",
    "print(\"\\n\")\n",
    "print(\"[INFO] GLCM accuracy...\")\n",
    "model_SVM = SVC(max_iter=1000, class_weight='balanced' )\n",
    "model_SVM.fit(trainImage_GLCM, trainLabels)\n",
    "acc = model_SVM.score(testImage_GLCM, testLabels)\n",
    "print(\"[INFO] SVM-SVC accuracy: {:.2f}%\".format(acc * 100))"
   ]
  },
  {
   "cell_type": "code",
   "execution_count": 9,
   "metadata": {},
   "outputs": [
    {
     "name": "stdout",
     "output_type": "stream",
     "text": [
      "\n",
      "\n",
      "[INFO] GLCM accuracy...\n",
      "[INFO] SVM-SVC accuracy: 47.44%\n"
     ]
    }
   ],
   "source": [
    "# SVC\n",
    "print(\"\\n\")\n",
    "print(\"[INFO] GLCM accuracy...\")\n",
    "model_SVM = SVC(max_iter=10000, class_weight='balanced' )\n",
    "model_SVM.fit(trainImage_GLCM, trainLabels)\n",
    "acc = model_SVM.score(testImage_GLCM, testLabels)\n",
    "print(\"[INFO] SVM-SVC accuracy: {:.2f}%\".format(acc * 100))"
   ]
  },
  {
   "cell_type": "code",
   "execution_count": 10,
   "metadata": {},
   "outputs": [
    {
     "data": {
      "text/plain": [
       "SVC(C=1.0, cache_size=200, class_weight='balanced', coef0=0.0,\n",
       "  decision_function_shape='ovr', degree=3, gamma='auto', kernel='rbf',\n",
       "  max_iter=10000, probability=False, random_state=None, shrinking=True,\n",
       "  tol=0.001, verbose=False)"
      ]
     },
     "execution_count": 10,
     "metadata": {},
     "output_type": "execute_result"
    }
   ],
   "source": [
    "model_SVM"
   ]
  },
  {
   "cell_type": "code",
   "execution_count": 11,
   "metadata": {},
   "outputs": [],
   "source": [
    "#----------------------PSO参数设置---------------------------------    \n",
    "class PSO():    \n",
    "    def __init__(self,pN,max_iter):    \n",
    "        self.w = 0.8      \n",
    "        self.c1 = 1  \n",
    "        self.r1= 0.6 \n",
    "        self.c2 = 1       \n",
    "        self.r2=0.3    \n",
    "        self.pN = pN                #粒子数量    \n",
    "        self.dim = 2                #搜索维度    C & gamma\n",
    "        self.max_iter = max_iter    #迭代次数    \n",
    "        self.X = np.zeros((self.pN,self.dim))       #所有粒子的位置度    \n",
    "        self.V = np.zeros((self.pN,self.dim))       #所有粒子的速度  \n",
    "        self.pbest = np.zeros((self.pN,self.dim))   #个体经历的最佳位置   \n",
    "        self.gbest = np.zeros((1,self.dim))         #全局最佳位置    \n",
    "        self.p_fit = np.zeros(self.pN)              #每个个体的历史最佳适应值    \n",
    "        self.fit = 0.300000000             #全局最佳适应值    \n",
    "        \n",
    "#---------------------目标函数SVM----------------------------    \n",
    "    def SVM_function(self,x):    \n",
    "        clf = SVC(max_iter=10000, class_weight='balanced' ,C = x[0], gamma = x[1])\n",
    "        clf.fit(trainImage_GLCM, trainLabels)\n",
    "        acc = clf.score(testImage_GLCM, testLabels)\n",
    "        #print(\"[INFO] C = {:.10f}, gamma = {:.10f}, accuracy: {:.2f}%\".format(x[0], x[1], acc * 100))\n",
    "        return acc  \n",
    "    \n",
    "#---------------------初始化种群----------------------------------    \n",
    "    def init_Population(self):    \n",
    "        for i in range(self.pN):     #粒子数量\n",
    "#             for j in range(self.dim):  #搜索维度\n",
    "            self.X[i][0] = random.uniform(0,2)  #C  \n",
    "            self.V[i][0] = random.uniform(0,0.1)  \n",
    "            self.X[i][1] = random.uniform(gamma_init/2,gamma_init*2)    #gamma\n",
    "            self.V[i][1] = random.uniform(gamma_init/100,gamma_init/10)    \n",
    "            self.pbest[i] = self.X[i]    \n",
    "            tmp = self.SVM_function(self.X[i])\n",
    "            print(\"[INFO] {:.1f} C = {:.6f}, gamma = {:.15f}, accuracy: {:.15f}%\".format(i, self.X[i][0], self.X[i][1], tmp * 100))\n",
    "            self.p_fit[i] = tmp    #每个个体的历史最佳适应值 \n",
    "            if(tmp > self.fit):    \n",
    "                self.fit = tmp    \n",
    "                self.gbest = self.X[i]    \n",
    "        \n",
    "#----------------------更新粒子位置----------------------------------    \n",
    "    def iterator(self):    \n",
    "        fitness = []    \n",
    "        for t in range(self.max_iter):\n",
    "            print (\"[INFO] iterator: {:.0f}\".format(t))\n",
    "            start = time.clock()\n",
    "            for i in range(self.pN):         #更新gbest\\pbest    \n",
    "                temp = self.SVM_function(self.X[i])    \n",
    "                if(temp > self.p_fit[i]):      #更新个体最优    \n",
    "                    self.p_fit[i] = temp    \n",
    "                    self.pbest[i] = self.X[i]    \n",
    "                    if(self.p_fit[i] > self.fit):  #更新全局最优    \n",
    "                        self.gbest = self.X[i]    \n",
    "                        self.fit = self.p_fit[i]    \n",
    "            for i in range(self.pN):   \n",
    "                tempV = self.w*self.V[i] + self.c1*self.r1*(self.pbest[i] - self.X[i]) + \\\n",
    "                            self.c2*self.r2*(self.gbest - self.X[i])\n",
    "                tempX = self.X[i] + self.V[i]\n",
    "                if (tempX[i]> 0 for i in range( self.dim)):\n",
    "                    self.X[i] = self.X[i] + self.V[i] \n",
    "                else:\n",
    "                    self.X[i] = self.X[i] /3 * 2\n",
    "            fitness.append(self.fit) \n",
    "            print(\"[INFO] C = {:.6f}, gamma = {:.15f}, accuracy: {:.15f}%\".format( self.gbest[0], self.gbest[1], self.fit * 100))\n",
    "            elapsed = (time.clock() - start)\n",
    "            print(\"Time used:\",elapsed)\n",
    "            #print(self.fit)                   #输出最优值  \n",
    "            #print(self.gbest)                   #输出全局最佳位置   \n",
    "        return fitness    \n",
    "  \n",
    " \n",
    "#当中是你的程序\n",
    " \n"
   ]
  },
  {
   "cell_type": "code",
   "execution_count": 12,
   "metadata": {},
   "outputs": [
    {
     "name": "stdout",
     "output_type": "stream",
     "text": [
      "[INFO] 0.0 C = 0.171019, gamma = 0.098943562497374, accuracy: 45.833333333333329%\n",
      "[INFO] 1.0 C = 0.222600, gamma = 0.115862741144463, accuracy: 46.474358974358978%\n",
      "[INFO] 2.0 C = 0.507777, gamma = 0.074007082735063, accuracy: 47.756410256410255%\n",
      "[INFO] 3.0 C = 0.718493, gamma = 0.106287407740477, accuracy: 47.756410256410255%\n",
      "[INFO] 4.0 C = 1.812044, gamma = 0.119535040859221, accuracy: 46.153846153846153%\n",
      "[INFO] 5.0 C = 0.403793, gamma = 0.111651628034268, accuracy: 47.756410256410255%\n",
      "[INFO] 6.0 C = 1.159819, gamma = 0.154258501597202, accuracy: 47.115384615384613%\n",
      "[INFO] 7.0 C = 1.322462, gamma = 0.137501074640339, accuracy: 46.474358974358978%\n",
      "[INFO] 8.0 C = 1.078156, gamma = 0.139410168463373, accuracy: 46.794871794871796%\n",
      "[INFO] 9.0 C = 1.368725, gamma = 0.098551453304662, accuracy: 46.794871794871796%\n"
     ]
    }
   ],
   "source": [
    "my_pso = PSO(pN=10,max_iter=20)    \n",
    "my_pso.init_Population()    \n"
   ]
  },
  {
   "cell_type": "code",
   "execution_count": 13,
   "metadata": {},
   "outputs": [
    {
     "name": "stdout",
     "output_type": "stream",
     "text": [
      "0.4775641025641026\n",
      "[0.50777749 0.07400708]\n"
     ]
    }
   ],
   "source": [
    "print (my_pso.fit)\n",
    "print (my_pso.gbest)"
   ]
  },
  {
   "cell_type": "code",
   "execution_count": 14,
   "metadata": {},
   "outputs": [
    {
     "name": "stdout",
     "output_type": "stream",
     "text": [
      "[INFO] iterator: 0\n",
      "[INFO] C = 0.518017, gamma = 0.077412394691430, accuracy: 47.756410256410255%\n",
      "Time used: 7.140849000000001\n",
      "[INFO] iterator: 1\n",
      "[INFO] C = 0.910925, gamma = 0.119134046524185, accuracy: 48.717948717948715%\n",
      "Time used: 6.850415999999999\n",
      "[INFO] iterator: 2\n",
      "[INFO] C = 1.007141, gamma = 0.125557365916039, accuracy: 48.717948717948715%\n",
      "Time used: 6.469321000000001\n",
      "[INFO] iterator: 3\n",
      "[INFO] C = 1.103357, gamma = 0.131980685307893, accuracy: 48.717948717948715%\n",
      "Time used: 6.751819999999999\n",
      "[INFO] iterator: 4\n",
      "[INFO] C = 1.199573, gamma = 0.138404004699747, accuracy: 48.717948717948715%\n",
      "Time used: 6.7436600000000055\n",
      "[INFO] iterator: 5\n",
      "[INFO] C = 1.295789, gamma = 0.144827324091601, accuracy: 48.717948717948715%\n",
      "Time used: 6.765442999999998\n",
      "[INFO] iterator: 6\n",
      "[INFO] C = 0.729630, gamma = 0.156566341106147, accuracy: 49.038461538461533%\n",
      "Time used: 6.7867999999999995\n",
      "[INFO] iterator: 7\n",
      "[INFO] C = 0.809431, gamma = 0.164798166621686, accuracy: 49.038461538461533%\n",
      "Time used: 6.7606540000000095\n",
      "[INFO] iterator: 8\n",
      "[INFO] C = 0.889233, gamma = 0.173029992137225, accuracy: 49.038461538461533%\n",
      "Time used: 6.650601999999992\n",
      "[INFO] iterator: 9\n",
      "[INFO] C = 0.969034, gamma = 0.181261817652764, accuracy: 49.038461538461533%\n",
      "Time used: 6.177112999999991\n",
      "[INFO] iterator: 10\n",
      "[INFO] C = 1.048836, gamma = 0.189493643168302, accuracy: 49.038461538461533%\n",
      "Time used: 6.789134000000004\n",
      "[INFO] iterator: 11\n",
      "[INFO] C = 1.128638, gamma = 0.197725468683841, accuracy: 49.038461538461533%\n",
      "Time used: 6.594502999999989\n",
      "[INFO] iterator: 12\n",
      "[INFO] C = 1.208439, gamma = 0.205957294199380, accuracy: 49.038461538461533%\n",
      "Time used: 6.648884999999993\n",
      "[INFO] iterator: 13\n",
      "[INFO] C = 1.288241, gamma = 0.214189119714919, accuracy: 49.038461538461533%\n",
      "Time used: 6.732903999999991\n",
      "[INFO] iterator: 14\n",
      "[INFO] C = 1.368042, gamma = 0.222420945230458, accuracy: 49.038461538461533%\n",
      "Time used: 6.6292080000000055\n",
      "[INFO] iterator: 15\n",
      "[INFO] C = 1.447844, gamma = 0.230652770745997, accuracy: 49.038461538461533%\n",
      "Time used: 6.707239999999999\n",
      "[INFO] iterator: 16\n",
      "[INFO] C = 1.527646, gamma = 0.238884596261536, accuracy: 49.038461538461533%\n",
      "Time used: 6.550832\n",
      "[INFO] iterator: 17\n",
      "[INFO] C = 1.607447, gamma = 0.247116421777075, accuracy: 49.038461538461533%\n",
      "Time used: 6.516823000000002\n",
      "[INFO] iterator: 18\n",
      "[INFO] C = 1.687249, gamma = 0.255348247292614, accuracy: 49.038461538461533%\n",
      "Time used: 6.708809000000002\n",
      "[INFO] iterator: 19\n",
      "[INFO] C = 1.767050, gamma = 0.263580072808153, accuracy: 49.038461538461533%\n",
      "Time used: 6.570673999999997\n"
     ]
    }
   ],
   "source": [
    "fitness = my_pso.iterator() "
   ]
  },
  {
   "cell_type": "code",
   "execution_count": 15,
   "metadata": {},
   "outputs": [
    {
     "name": "stdout",
     "output_type": "stream",
     "text": [
      "\n",
      "\n",
      "[INFO] GLCM accuracy...\n",
      "C =  1.7670502919235107 gamma =  0.2635800728081527\n",
      "[INFO] SVM-SVC GLCM accuracy: 47.7564102564%\n"
     ]
    },
    {
     "name": "stderr",
     "output_type": "stream",
     "text": [
      "/home/huiqy/anaconda3/lib/python3.6/site-packages/sklearn/svm/base.py:218: ConvergenceWarning: Solver terminated early (max_iter=1000).  Consider pre-processing your data with StandardScaler or MinMaxScaler.\n",
      "  % self.max_iter, ConvergenceWarning)\n"
     ]
    }
   ],
   "source": [
    "# SVC\n",
    "print(\"\\n\")\n",
    "print(\"[INFO] GLCM accuracy...\")\n",
    "print (\"C = \", my_pso.gbest[0],\"gamma = \", my_pso.gbest[1])\n",
    "model = SVC(max_iter=1000, class_weight='balanced',C = my_pso.gbest[0],gamma = my_pso.gbest[1])\n",
    "model.fit(trainImage_GLCM, trainLabels)\n",
    "acc = model.score(testImage_GLCM, testLabels)\n",
    "print(\"[INFO] SVM-SVC GLCM accuracy: {:.10f}%\".format(acc * 100))\n"
   ]
  },
  {
   "cell_type": "code",
   "execution_count": null,
   "metadata": {},
   "outputs": [],
   "source": []
  }
 ],
 "metadata": {
  "anaconda-cloud": {},
  "kernelspec": {
   "display_name": "Python 3",
   "language": "python",
   "name": "python3"
  },
  "language_info": {
   "codemirror_mode": {
    "name": "ipython",
    "version": 3
   },
   "file_extension": ".py",
   "mimetype": "text/x-python",
   "name": "python",
   "nbconvert_exporter": "python",
   "pygments_lexer": "ipython3",
   "version": "3.6.4"
  }
 },
 "nbformat": 4,
 "nbformat_minor": 2
}
