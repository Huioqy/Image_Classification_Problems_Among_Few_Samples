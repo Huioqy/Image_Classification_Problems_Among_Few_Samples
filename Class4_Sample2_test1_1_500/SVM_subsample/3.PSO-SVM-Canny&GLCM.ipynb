{
 "cells": [
  {
   "cell_type": "code",
   "execution_count": 3,
   "metadata": {},
   "outputs": [],
   "source": [
    "# coding: utf-8  \n",
    "import numpy as np    \n",
    "import random     \n",
    "import matplotlib.pyplot as plt \n",
    "from sklearn.neighbors import KNeighborsClassifier\n",
    "from sklearn.neural_network import MLPClassifier\n",
    "from sklearn.svm import SVC\n",
    "from sklearn.cross_validation import train_test_split\n",
    "from sklearn.preprocessing import StandardScaler, LabelEncoder\n",
    "from sklearn.model_selection import StratifiedShuffleSplit\n",
    "from imutils import paths\n",
    "import imutils\n",
    "import cv2\n",
    "import os\n",
    "\n",
    "import time\n"
   ]
  },
  {
   "cell_type": "code",
   "execution_count": 4,
   "metadata": {},
   "outputs": [
    {
     "name": "stdout",
     "output_type": "stream",
     "text": [
      "(4000,)\n",
      "(312,)\n"
     ]
    }
   ],
   "source": [
    "trainLabels = np.load('./trainLabels.npy')\n",
    "testLabels= np.load('./testLabels.npy')\n",
    "print(trainLabels.shape)\n",
    "print(testLabels.shape)"
   ]
  },
  {
   "cell_type": "code",
   "execution_count": 5,
   "metadata": {},
   "outputs": [
    {
     "name": "stdout",
     "output_type": "stream",
     "text": [
      "(4000, 1036)\n",
      "(312, 1036)\n"
     ]
    }
   ],
   "source": [
    "trainImage_canny_GLCM = np.load('./trainImage_canny_GLCM.npy')\n",
    "testImage_canny_GLCM = np.load('./testImage_canny_GLCM.npy')\n",
    "print(trainImage_canny_GLCM.shape)\n",
    "print(testImage_canny_GLCM.shape)"
   ]
  },
  {
   "cell_type": "code",
   "execution_count": 6,
   "metadata": {},
   "outputs": [
    {
     "name": "stdout",
     "output_type": "stream",
     "text": [
      "(4000, 1036)\n",
      "1036\n",
      "0.0009652509652509653\n"
     ]
    }
   ],
   "source": [
    "n_feature = trainImage_canny_GLCM.shape[1]\n",
    "gamma_init = 1/n_feature\n",
    "print (trainImage_canny_GLCM.shape)\n",
    "print (n_feature)\n",
    "print (gamma_init)"
   ]
  },
  {
   "cell_type": "code",
   "execution_count": 7,
   "metadata": {},
   "outputs": [
    {
     "name": "stdout",
     "output_type": "stream",
     "text": [
      "\n",
      "\n",
      "[INFO] canny_GLCM accuracy...\n"
     ]
    },
    {
     "name": "stderr",
     "output_type": "stream",
     "text": [
      "/home/huiqy/anaconda3/lib/python3.6/site-packages/sklearn/svm/base.py:218: ConvergenceWarning: Solver terminated early (max_iter=200).  Consider pre-processing your data with StandardScaler or MinMaxScaler.\n",
      "  % self.max_iter, ConvergenceWarning)\n"
     ]
    },
    {
     "name": "stdout",
     "output_type": "stream",
     "text": [
      "[INFO] SVM-SVC accuracy: 49.04%\n"
     ]
    }
   ],
   "source": [
    "# SVC\n",
    "print(\"\\n\")\n",
    "print(\"[INFO] canny_GLCM accuracy...\")\n",
    "model_SVM = SVC(max_iter=200, class_weight='balanced' )\n",
    "model_SVM.fit(trainImage_canny_GLCM, trainLabels)\n",
    "acc = model_SVM.score(testImage_canny_GLCM, testLabels)\n",
    "print(\"[INFO] SVM-SVC accuracy: {:.2f}%\".format(acc * 100))"
   ]
  },
  {
   "cell_type": "code",
   "execution_count": 8,
   "metadata": {},
   "outputs": [
    {
     "name": "stdout",
     "output_type": "stream",
     "text": [
      "\n",
      "\n",
      "[INFO] Canny&GLCM accuracy...\n"
     ]
    },
    {
     "name": "stderr",
     "output_type": "stream",
     "text": [
      "/home/huiqy/anaconda3/lib/python3.6/site-packages/sklearn/svm/base.py:218: ConvergenceWarning: Solver terminated early (max_iter=1000).  Consider pre-processing your data with StandardScaler or MinMaxScaler.\n",
      "  % self.max_iter, ConvergenceWarning)\n"
     ]
    },
    {
     "name": "stdout",
     "output_type": "stream",
     "text": [
      "[INFO] SVM-SVC accuracy: 52.56%\n"
     ]
    }
   ],
   "source": [
    "# SVC\n",
    "print(\"\\n\")\n",
    "print(\"[INFO] Canny&GLCM accuracy...\")\n",
    "model_SVM = SVC(max_iter=1000, class_weight='balanced' )\n",
    "model_SVM.fit(trainImage_canny_GLCM, trainLabels)\n",
    "acc = model_SVM.score(testImage_canny_GLCM, testLabels)\n",
    "print(\"[INFO] SVM-SVC accuracy: {:.2f}%\".format(acc * 100))"
   ]
  },
  {
   "cell_type": "code",
   "execution_count": 9,
   "metadata": {},
   "outputs": [
    {
     "data": {
      "text/plain": [
       "SVC(C=1.0, cache_size=200, class_weight='balanced', coef0=0.0,\n",
       "  decision_function_shape='ovr', degree=3, gamma='auto', kernel='rbf',\n",
       "  max_iter=1000, probability=False, random_state=None, shrinking=True,\n",
       "  tol=0.001, verbose=False)"
      ]
     },
     "execution_count": 9,
     "metadata": {},
     "output_type": "execute_result"
    }
   ],
   "source": [
    "model_SVM"
   ]
  },
  {
   "cell_type": "code",
   "execution_count": 10,
   "metadata": {},
   "outputs": [],
   "source": [
    "#----------------------PSO参数设置---------------------------------    \n",
    "class PSO():    \n",
    "    def __init__(self,pN,max_iter):    \n",
    "        self.w = 0.8      \n",
    "        self.c1 = 1  \n",
    "        self.r1= 0.6 \n",
    "        self.c2 = 1       \n",
    "        self.r2= 0.3    \n",
    "        self.pN = pN                #粒子数量    \n",
    "        self.dim = 2                #搜索维度    C & gamma\n",
    "        self.max_iter = max_iter    #迭代次数    \n",
    "        self.X = np.zeros((self.pN,self.dim))       #所有粒子的位置度    \n",
    "        self.V = np.zeros((self.pN,self.dim))       #所有粒子的速度  \n",
    "        self.pbest = np.zeros((self.pN,self.dim))   #个体经历的最佳位置   \n",
    "        self.gbest = np.zeros((1,self.dim))         #全局最佳位置    \n",
    "        self.p_fit = np.zeros(self.pN)              #每个个体的历史最佳适应值    \n",
    "        self.fit = 0.400000000             #全局最佳适应值    \n",
    "        \n",
    "#---------------------目标函数SVM----------------------------    \n",
    "    def SVM_function(self,x):    \n",
    "        clf = SVC(max_iter=1000, class_weight='balanced' ,C = x[0], gamma = x[1])\n",
    "        clf.fit(trainImage_canny_GLCM, trainLabels)\n",
    "        acc = clf.score(testImage_canny_GLCM, testLabels)\n",
    "        #print(\"[INFO] C = {:.10f}, gamma = {:.10f}, accuracy: {:.2f}%\".format(x[0], x[1], acc * 100))\n",
    "        return acc  \n",
    "    \n",
    "#---------------------初始化种群----------------------------------    \n",
    "    def init_Population(self):    \n",
    "        for i in range(self.pN):     #粒子数量\n",
    "#             for j in range(self.dim):  #搜索维度\n",
    "            self.X[i][0] = random.uniform(0,2)  #C  \n",
    "            self.V[i][0] = random.uniform(0,0.1)  \n",
    "            self.X[i][1] = random.uniform(gamma_init/2,gamma_init*2)    #gamma\n",
    "            self.V[i][1] = random.uniform(gamma_init/100,gamma_init/10)    \n",
    "            self.pbest[i] = self.X[i]    \n",
    "            tmp = self.SVM_function(self.X[i])\n",
    "            print(\"[INFO] {:.1f} C = {:.6f}, gamma = {:.15f}, accuracy: {:.15f}%\".format(i, self.X[i][0], self.X[i][1], tmp * 100))\n",
    "            self.p_fit[i] = tmp    #每个个体的历史最佳适应值 \n",
    "            if(tmp > self.fit):    \n",
    "                self.fit = tmp    \n",
    "                self.gbest = self.X[i]    \n",
    "        \n",
    "#----------------------更新粒子位置----------------------------------    \n",
    "    def iterator(self):    \n",
    "        fitness = []    \n",
    "        for t in range(self.max_iter):\n",
    "            print (\"[INFO] iterator: {:.0f}\".format(t))\n",
    "            start = time.clock()\n",
    "            for i in range(self.pN):         #更新gbest\\pbest    \n",
    "                temp = self.SVM_function(self.X[i])    \n",
    "                if(temp > self.p_fit[i]):      #更新个体最优    \n",
    "                    self.p_fit[i] = temp    \n",
    "                    self.pbest[i] = self.X[i]    \n",
    "                    if(self.p_fit[i] > self.fit):  #更新全局最优    \n",
    "                        self.gbest = self.X[i]    \n",
    "                        self.fit = self.p_fit[i]    \n",
    "            for i in range(self.pN):   \n",
    "                tempV = self.w*self.V[i] + self.c1*self.r1*(self.pbest[i] - self.X[i]) + \\\n",
    "                            self.c2*self.r2*(self.gbest - self.X[i])\n",
    "                tempX = self.X[i] + self.V[i]\n",
    "                if (tempX[i]> 0 for i in range( self.dim)):\n",
    "                    self.X[i] = self.X[i] + self.V[i] \n",
    "                else:\n",
    "                    self.X[i] = self.X[i] /3 * 2\n",
    "            fitness.append(self.fit) \n",
    "            print(\"[INFO] C = {:.6f}, gamma = {:.15f}, accuracy: {:.15f}%\".format(self.gbest[0], self.gbest[1], self.fit * 100))\n",
    "            elapsed = (time.clock() - start)\n",
    "            print(\"Time used:\",elapsed)\n",
    "            #print(self.fit)                   #输出最优值  \n",
    "            #print(self.gbest)                   #输出全局最佳位置   \n",
    "        return fitness    \n",
    "  \n",
    " \n",
    "#当中是你的程序\n",
    " "
   ]
  },
  {
   "cell_type": "code",
   "execution_count": 11,
   "metadata": {},
   "outputs": [
    {
     "name": "stderr",
     "output_type": "stream",
     "text": [
      "/home/huiqy/anaconda3/lib/python3.6/site-packages/sklearn/svm/base.py:218: ConvergenceWarning: Solver terminated early (max_iter=1000).  Consider pre-processing your data with StandardScaler or MinMaxScaler.\n",
      "  % self.max_iter, ConvergenceWarning)\n"
     ]
    },
    {
     "name": "stdout",
     "output_type": "stream",
     "text": [
      "[INFO] 0.0 C = 1.710009, gamma = 0.000867733692918, accuracy: 52.243589743589745%\n",
      "[INFO] 1.0 C = 0.864783, gamma = 0.001543820350526, accuracy: 55.128205128205131%\n",
      "[INFO] 2.0 C = 1.117096, gamma = 0.001331050538782, accuracy: 54.807692307692314%\n",
      "[INFO] 3.0 C = 0.229763, gamma = 0.000763754914367, accuracy: 52.243589743589745%\n",
      "[INFO] 4.0 C = 0.825047, gamma = 0.001035600014383, accuracy: 53.525641025641022%\n",
      "[INFO] 5.0 C = 0.888243, gamma = 0.001397953286148, accuracy: 55.128205128205131%\n",
      "[INFO] 6.0 C = 1.832572, gamma = 0.001065636282615, accuracy: 53.525641025641022%\n",
      "[INFO] 7.0 C = 1.936804, gamma = 0.001483140380941, accuracy: 55.448717948717949%\n"
     ]
    }
   ],
   "source": [
    "my_pso = PSO(pN=8,max_iter=5)    \n",
    "my_pso.init_Population()    \n"
   ]
  },
  {
   "cell_type": "code",
   "execution_count": 12,
   "metadata": {},
   "outputs": [
    {
     "name": "stdout",
     "output_type": "stream",
     "text": [
      "0.5544871794871795\n",
      "[1.93680399e+00 1.48314038e-03]\n"
     ]
    }
   ],
   "source": [
    "print (my_pso.fit)\n",
    "print (my_pso.gbest)"
   ]
  },
  {
   "cell_type": "code",
   "execution_count": 13,
   "metadata": {},
   "outputs": [
    {
     "name": "stdout",
     "output_type": "stream",
     "text": [
      "[INFO] iterator: 0\n"
     ]
    },
    {
     "name": "stderr",
     "output_type": "stream",
     "text": [
      "/home/huiqy/anaconda3/lib/python3.6/site-packages/sklearn/svm/base.py:218: ConvergenceWarning: Solver terminated early (max_iter=1000).  Consider pre-processing your data with StandardScaler or MinMaxScaler.\n",
      "  % self.max_iter, ConvergenceWarning)\n"
     ]
    },
    {
     "name": "stdout",
     "output_type": "stream",
     "text": [
      "[INFO] C = 1.940379, gamma = 0.001557925127569, accuracy: 55.448717948717949%\n",
      "Time used: 382.99304000000006\n",
      "[INFO] iterator: 1\n",
      "[INFO] C = 1.943953, gamma = 0.001632709874196, accuracy: 55.448717948717949%\n",
      "Time used: 371.774545\n",
      "[INFO] iterator: 2\n",
      "[INFO] C = 1.204864, gamma = 0.001588847695484, accuracy: 56.089743589743591%\n",
      "Time used: 359.22645799999987\n",
      "[INFO] iterator: 3\n",
      "[INFO] C = 1.234120, gamma = 0.001674780081052, accuracy: 56.089743589743591%\n",
      "Time used: 362.5018889999999\n",
      "[INFO] iterator: 4\n",
      "[INFO] C = 1.263376, gamma = 0.001760712466620, accuracy: 56.089743589743591%\n",
      "Time used: 400.13714600000003\n"
     ]
    }
   ],
   "source": [
    "fitness = my_pso.iterator() "
   ]
  },
  {
   "cell_type": "code",
   "execution_count": 14,
   "metadata": {},
   "outputs": [
    {
     "name": "stdout",
     "output_type": "stream",
     "text": [
      "\n",
      "\n",
      "[INFO] evaluating histogram accuracy...\n"
     ]
    },
    {
     "name": "stderr",
     "output_type": "stream",
     "text": [
      "/home/huiqy/anaconda3/lib/python3.6/site-packages/sklearn/svm/base.py:218: ConvergenceWarning: Solver terminated early (max_iter=1000).  Consider pre-processing your data with StandardScaler or MinMaxScaler.\n",
      "  % self.max_iter, ConvergenceWarning)\n"
     ]
    },
    {
     "name": "stdout",
     "output_type": "stream",
     "text": [
      "[INFO] SVM-SVC CNN accuracy: 56.0897435897%\n"
     ]
    }
   ],
   "source": [
    "# SVC\n",
    "print(\"\\n\")\n",
    "print(\"[INFO] evaluating histogram accuracy...\")\n",
    "model = SVC(max_iter=1000, class_weight='balanced',C = my_pso.gbest[0],gamma = my_pso.gbest[1])\n",
    "model.fit(trainImage_canny_GLCM, trainLabels)\n",
    "acc = model.score(testImage_canny_GLCM, testLabels)\n",
    "print(\"[INFO] SVM-SVC CNN accuracy: {:.10f}%\".format(acc * 100))\n"
   ]
  },
  {
   "cell_type": "code",
   "execution_count": null,
   "metadata": {},
   "outputs": [],
   "source": []
  }
 ],
 "metadata": {
  "anaconda-cloud": {},
  "kernelspec": {
   "display_name": "Python 3",
   "language": "python",
   "name": "python3"
  },
  "language_info": {
   "codemirror_mode": {
    "name": "ipython",
    "version": 3
   },
   "file_extension": ".py",
   "mimetype": "text/x-python",
   "name": "python",
   "nbconvert_exporter": "python",
   "pygments_lexer": "ipython3",
   "version": "3.6.4"
  }
 },
 "nbformat": 4,
 "nbformat_minor": 2
}
