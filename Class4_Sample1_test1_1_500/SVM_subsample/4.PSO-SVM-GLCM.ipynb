{
 "cells": [
  {
   "cell_type": "code",
   "execution_count": 1,
   "metadata": {},
   "outputs": [
    {
     "name": "stderr",
     "output_type": "stream",
     "text": [
      "/home/huiqy/anaconda3/lib/python3.6/site-packages/sklearn/cross_validation.py:41: DeprecationWarning: This module was deprecated in version 0.18 in favor of the model_selection module into which all the refactored classes and functions are moved. Also note that the interface of the new CV iterators are different from that of this module. This module will be removed in 0.20.\n",
      "  \"This module will be removed in 0.20.\", DeprecationWarning)\n"
     ]
    }
   ],
   "source": [
    "# coding: utf-8  \n",
    "import numpy as np    \n",
    "import random     \n",
    "import matplotlib.pyplot as plt \n",
    "from sklearn.neighbors import KNeighborsClassifier\n",
    "from sklearn.neural_network import MLPClassifier\n",
    "from sklearn.svm import SVC\n",
    "from sklearn.cross_validation import train_test_split\n",
    "from sklearn.preprocessing import StandardScaler, LabelEncoder\n",
    "from sklearn.model_selection import StratifiedShuffleSplit\n",
    "from imutils import paths\n",
    "import imutils\n",
    "import cv2\n",
    "import os\n",
    "\n",
    "import time\n"
   ]
  },
  {
   "cell_type": "code",
   "execution_count": 2,
   "metadata": {},
   "outputs": [
    {
     "name": "stdout",
     "output_type": "stream",
     "text": [
      "(2000,)\n",
      "[0 0 0 ... 3 3 3]\n",
      "(316,)\n",
      "[0 0 0 0 0 0 0 0 0 0 0 0 0 0 0 0 0 0 0 0 0 0 0 0 0 0 0 0 0 0 0 0 0 0 0 0 0\n",
      " 0 0 0 0 0 0 0 0 0 0 0 0 0 0 0 0 0 0 0 0 0 0 0 0 0 0 0 0 0 0 0 0 0 0 0 0 0\n",
      " 0 0 0 0 0 1 1 1 1 1 1 1 1 1 1 1 1 1 1 1 1 1 1 1 1 1 1 1 1 1 1 1 1 1 1 1 1\n",
      " 1 1 1 1 1 1 1 1 1 1 1 1 1 1 1 1 1 1 1 1 1 1 1 1 1 1 1 1 1 1 1 1 1 1 1 1 1\n",
      " 1 1 1 1 1 1 1 1 1 1 2 2 2 2 2 2 2 2 2 2 2 2 2 2 2 2 2 2 2 2 2 2 2 2 2 2 2\n",
      " 2 2 2 2 2 2 2 2 2 2 2 2 2 2 2 2 2 2 2 2 2 2 2 2 2 2 2 2 2 2 2 2 2 2 2 2 2\n",
      " 2 2 2 2 2 2 2 2 2 2 2 2 2 2 2 3 3 3 3 3 3 3 3 3 3 3 3 3 3 3 3 3 3 3 3 3 3\n",
      " 3 3 3 3 3 3 3 3 3 3 3 3 3 3 3 3 3 3 3 3 3 3 3 3 3 3 3 3 3 3 3 3 3 3 3 3 3\n",
      " 3 3 3 3 3 3 3 3 3 3 3 3 3 3 3 3 3 3 3 3]\n"
     ]
    }
   ],
   "source": [
    "trainLabels = np.load('./trainLabels.npy')\n",
    "testLabels= np.load('./testLabels.npy')\n",
    "\n",
    "print(trainLabels.shape)\n",
    "print(trainLabels)\n",
    "print(testLabels.shape)\n",
    "print(testLabels)"
   ]
  },
  {
   "cell_type": "code",
   "execution_count": 3,
   "metadata": {},
   "outputs": [
    {
     "name": "stdout",
     "output_type": "stream",
     "text": [
      "(2000, 12)\n",
      "[[-0.66513973  0.14793397  0.95190537 ...  0.34096348  1.0513088\n",
      "  -1.6822711 ]\n",
      " [ 1.0409693  -0.4540082  -1.2655115  ... -0.5352906  -1.2836931\n",
      "   0.62934023]\n",
      " [ 0.7100678  -0.41758078 -1.0006276  ... -0.49635673 -1.0355107\n",
      "   0.51265717]\n",
      " ...\n",
      " [-0.17957132 -0.26637802 -0.12286132 ... -0.29319832 -0.2080851\n",
      "   0.6653262 ]\n",
      " [ 1.867895   -0.2773196  -1.1027002  ... -0.36187133 -1.3145515\n",
      "   1.0207182 ]\n",
      " [-0.9477725   0.13563582  1.3387161  ...  0.12437512  1.1665314\n",
      "  -1.574114  ]]\n",
      "(316, 12)\n",
      "[[-0.8841373   0.2922204   1.3713534  ...  0.18695542  1.1256521\n",
      "  -0.30932385]\n",
      " [-1.1474764   1.9411287   2.3314803  ...  1.4085064   1.9975106\n",
      "  -2.6258717 ]\n",
      " [-0.35656852 -0.22461323 -0.1121651  ... -0.34045398 -0.2856436\n",
      "  -0.1050489 ]\n",
      " ...\n",
      " [ 0.2423791  -0.18525027 -0.6570174  ... -0.29657903 -0.8230044\n",
      "   0.5084898 ]\n",
      " [-1.0692432   1.5090034   2.1259797  ...  1.4987454   1.9535815\n",
      "  -2.9912815 ]\n",
      " [-0.9001956   1.2982446   1.5859413  ...  1.3093513   1.4702493\n",
      "  -2.1431894 ]]\n"
     ]
    }
   ],
   "source": [
    "trainImage_GLCM = np.load('./trainImage_GLCM.npy')\n",
    "testImage_GLCM = np.load('./testImage_GLCM.npy')\n",
    "print(trainImage_GLCM.shape)\n",
    "print(trainImage_GLCM)\n",
    "print(testImage_GLCM.shape)\n",
    "print(testImage_GLCM)"
   ]
  },
  {
   "cell_type": "code",
   "execution_count": 4,
   "metadata": {},
   "outputs": [
    {
     "name": "stdout",
     "output_type": "stream",
     "text": [
      "(2000, 12)\n",
      "12\n",
      "0.08333333333333333\n"
     ]
    }
   ],
   "source": [
    "n_feature = trainImage_GLCM.shape[1]\n",
    "gamma_init = 1/n_feature\n",
    "print (trainImage_GLCM.shape)\n",
    "print (n_feature)\n",
    "print (gamma_init)"
   ]
  },
  {
   "cell_type": "code",
   "execution_count": 5,
   "metadata": {},
   "outputs": [
    {
     "name": "stdout",
     "output_type": "stream",
     "text": [
      "\n",
      "\n",
      "[INFO] GLCM accuracy...\n",
      "[INFO] SVM-SVC accuracy: 38.92%\n"
     ]
    },
    {
     "name": "stderr",
     "output_type": "stream",
     "text": [
      "/home/huiqy/anaconda3/lib/python3.6/site-packages/sklearn/svm/base.py:218: ConvergenceWarning: Solver terminated early (max_iter=200).  Consider pre-processing your data with StandardScaler or MinMaxScaler.\n",
      "  % self.max_iter, ConvergenceWarning)\n"
     ]
    }
   ],
   "source": [
    "# SVC\n",
    "print(\"\\n\")\n",
    "print(\"[INFO] GLCM accuracy...\")\n",
    "model_SVM = SVC(max_iter=200, class_weight='balanced' )\n",
    "model_SVM.fit(trainImage_GLCM, trainLabels)\n",
    "acc = model_SVM.score(testImage_GLCM, testLabels)\n",
    "print(\"[INFO] SVM-SVC accuracy: {:.2f}%\".format(acc * 100))"
   ]
  },
  {
   "cell_type": "code",
   "execution_count": 6,
   "metadata": {},
   "outputs": [
    {
     "name": "stdout",
     "output_type": "stream",
     "text": [
      "\n",
      "\n",
      "[INFO] GLCM accuracy...\n",
      "[INFO] SVM-SVC accuracy: 40.19%\n"
     ]
    }
   ],
   "source": [
    "# SVC\n",
    "print(\"\\n\")\n",
    "print(\"[INFO] GLCM accuracy...\")\n",
    "model_SVM = SVC(max_iter=1000, class_weight='balanced' )\n",
    "model_SVM.fit(trainImage_GLCM, trainLabels)\n",
    "acc = model_SVM.score(testImage_GLCM, testLabels)\n",
    "print(\"[INFO] SVM-SVC accuracy: {:.2f}%\".format(acc * 100))"
   ]
  },
  {
   "cell_type": "code",
   "execution_count": 7,
   "metadata": {},
   "outputs": [
    {
     "name": "stdout",
     "output_type": "stream",
     "text": [
      "\n",
      "\n",
      "[INFO] GLCM accuracy...\n",
      "[INFO] SVM-SVC accuracy: 40.19%\n"
     ]
    }
   ],
   "source": [
    "# SVC\n",
    "print(\"\\n\")\n",
    "print(\"[INFO] GLCM accuracy...\")\n",
    "model_SVM = SVC(max_iter=10000, class_weight='balanced' )\n",
    "model_SVM.fit(trainImage_GLCM, trainLabels)\n",
    "acc = model_SVM.score(testImage_GLCM, testLabels)\n",
    "print(\"[INFO] SVM-SVC accuracy: {:.2f}%\".format(acc * 100))"
   ]
  },
  {
   "cell_type": "code",
   "execution_count": 8,
   "metadata": {},
   "outputs": [
    {
     "data": {
      "text/plain": [
       "SVC(C=1.0, cache_size=200, class_weight='balanced', coef0=0.0,\n",
       "  decision_function_shape='ovr', degree=3, gamma='auto', kernel='rbf',\n",
       "  max_iter=10000, probability=False, random_state=None, shrinking=True,\n",
       "  tol=0.001, verbose=False)"
      ]
     },
     "execution_count": 8,
     "metadata": {},
     "output_type": "execute_result"
    }
   ],
   "source": [
    "model_SVM"
   ]
  },
  {
   "cell_type": "code",
   "execution_count": 9,
   "metadata": {},
   "outputs": [],
   "source": [
    "#----------------------PSO参数设置---------------------------------    \n",
    "class PSO():    \n",
    "    def __init__(self,pN,max_iter):    \n",
    "        self.w = 0.8      \n",
    "        self.c1 = 1  \n",
    "        self.r1= 0.6 \n",
    "        self.c2 = 1       \n",
    "        self.r2=0.3    \n",
    "        self.pN = pN                #粒子数量    \n",
    "        self.dim = 2                #搜索维度    C & gamma\n",
    "        self.max_iter = max_iter    #迭代次数    \n",
    "        self.X = np.zeros((self.pN,self.dim))       #所有粒子的位置度    \n",
    "        self.V = np.zeros((self.pN,self.dim))       #所有粒子的速度  \n",
    "        self.pbest = np.zeros((self.pN,self.dim))   #个体经历的最佳位置   \n",
    "        self.gbest = np.zeros((1,self.dim))         #全局最佳位置    \n",
    "        self.p_fit = np.zeros(self.pN)              #每个个体的历史最佳适应值    \n",
    "        self.fit = 0.300000000             #全局最佳适应值    \n",
    "        \n",
    "#---------------------目标函数SVM----------------------------    \n",
    "    def SVM_function(self,x):    \n",
    "        clf = SVC(max_iter=10000, class_weight='balanced' ,C = x[0], gamma = x[1])\n",
    "        clf.fit(trainImage_GLCM, trainLabels)\n",
    "        acc = clf.score(testImage_GLCM, testLabels)\n",
    "        #print(\"[INFO] C = {:.10f}, gamma = {:.10f}, accuracy: {:.2f}%\".format(x[0], x[1], acc * 100))\n",
    "        return acc  \n",
    "    \n",
    "#---------------------初始化种群----------------------------------    \n",
    "    def init_Population(self):    \n",
    "        for i in range(self.pN):     #粒子数量\n",
    "#             for j in range(self.dim):  #搜索维度\n",
    "            self.X[i][0] = random.uniform(0,2)  #C  \n",
    "            self.V[i][0] = random.uniform(0,0.1)  \n",
    "            self.X[i][1] = random.uniform(gamma_init/2,gamma_init*2)    #gamma\n",
    "            self.V[i][1] = random.uniform(gamma_init/100,gamma_init/10)    \n",
    "            self.pbest[i] = self.X[i]    \n",
    "            tmp = self.SVM_function(self.X[i])\n",
    "            print(\"[INFO] {:.1f} C = {:.6f}, gamma = {:.15f}, accuracy: {:.15f}%\".format(i, self.X[i][0], self.X[i][1], tmp * 100))\n",
    "            self.p_fit[i] = tmp    #每个个体的历史最佳适应值 \n",
    "            if(tmp > self.fit):    \n",
    "                self.fit = tmp    \n",
    "                self.gbest = self.X[i]    \n",
    "        \n",
    "#----------------------更新粒子位置----------------------------------    \n",
    "    def iterator(self):    \n",
    "        fitness = []    \n",
    "        for t in range(self.max_iter):\n",
    "            print (\"[INFO] iterator: {:.0f}\".format(t))\n",
    "            start = time.clock()\n",
    "            for i in range(self.pN):         #更新gbest\\pbest    \n",
    "                temp = self.SVM_function(self.X[i])    \n",
    "                if(temp > self.p_fit[i]):      #更新个体最优    \n",
    "                    self.p_fit[i] = temp    \n",
    "                    self.pbest[i] = self.X[i]    \n",
    "                    if(self.p_fit[i] > self.fit):  #更新全局最优    \n",
    "                        self.gbest = self.X[i]    \n",
    "                        self.fit = self.p_fit[i]    \n",
    "            for i in range(self.pN):   \n",
    "                tempV = self.w*self.V[i] + self.c1*self.r1*(self.pbest[i] - self.X[i]) + \\\n",
    "                            self.c2*self.r2*(self.gbest - self.X[i])\n",
    "                tempX = self.X[i] + self.V[i]\n",
    "                if (tempX[i]> 0 for i in range( self.dim)):\n",
    "                    self.X[i] = self.X[i] + self.V[i] \n",
    "                else:\n",
    "                    self.X[i] = self.X[i] /3 * 2\n",
    "            fitness.append(self.fit) \n",
    "            print(\"[INFO] C = {:.6f}, gamma = {:.15f}, accuracy: {:.15f}%\".format( self.gbest[0], self.gbest[1], self.fit * 100))\n",
    "            elapsed = (time.clock() - start)\n",
    "            print(\"Time used:\",elapsed)\n",
    "            #print(self.fit)                   #输出最优值  \n",
    "            #print(self.gbest)                   #输出全局最佳位置   \n",
    "        return fitness    \n",
    "  \n",
    " \n",
    "#当中是你的程序\n",
    " \n"
   ]
  },
  {
   "cell_type": "code",
   "execution_count": 10,
   "metadata": {},
   "outputs": [
    {
     "name": "stdout",
     "output_type": "stream",
     "text": [
      "[INFO] 0.0 C = 0.359610, gamma = 0.133784337698919, accuracy: 37.341772151898731%\n",
      "[INFO] 1.0 C = 0.695915, gamma = 0.108385519164348, accuracy: 38.924050632911396%\n",
      "[INFO] 2.0 C = 1.521429, gamma = 0.147464127270802, accuracy: 40.822784810126585%\n",
      "[INFO] 3.0 C = 1.640232, gamma = 0.161915870863823, accuracy: 40.506329113924053%\n",
      "[INFO] 4.0 C = 1.253201, gamma = 0.159147365689997, accuracy: 40.822784810126585%\n",
      "[INFO] 5.0 C = 1.960469, gamma = 0.159965577995041, accuracy: 40.822784810126585%\n",
      "[INFO] 6.0 C = 0.943794, gamma = 0.085644386580752, accuracy: 38.924050632911396%\n",
      "[INFO] 7.0 C = 1.677099, gamma = 0.081743411926772, accuracy: 42.405063291139236%\n",
      "[INFO] 8.0 C = 0.085789, gamma = 0.052025750565840, accuracy: 35.126582278481010%\n",
      "[INFO] 9.0 C = 0.210365, gamma = 0.070716750755023, accuracy: 38.291139240506325%\n"
     ]
    }
   ],
   "source": [
    "my_pso = PSO(pN=10,max_iter=20)    \n",
    "my_pso.init_Population()    \n"
   ]
  },
  {
   "cell_type": "code",
   "execution_count": 11,
   "metadata": {},
   "outputs": [
    {
     "name": "stdout",
     "output_type": "stream",
     "text": [
      "0.4240506329113924\n",
      "[1.67709882 0.08174341]\n"
     ]
    }
   ],
   "source": [
    "print (my_pso.fit)\n",
    "print (my_pso.gbest)"
   ]
  },
  {
   "cell_type": "code",
   "execution_count": 12,
   "metadata": {},
   "outputs": [
    {
     "name": "stdout",
     "output_type": "stream",
     "text": [
      "[INFO] iterator: 0\n",
      "[INFO] C = 1.763105, gamma = 0.084998826802068, accuracy: 42.405063291139236%\n",
      "Time used: 1.7594120000000002\n",
      "[INFO] iterator: 1\n",
      "[INFO] C = 1.849111, gamma = 0.088254241677364, accuracy: 42.405063291139236%\n",
      "Time used: 1.5313940000000006\n",
      "[INFO] iterator: 2\n",
      "[INFO] C = 1.935117, gamma = 0.091509656552660, accuracy: 42.405063291139236%\n",
      "Time used: 1.3770059999999997\n",
      "[INFO] iterator: 3\n",
      "[INFO] C = 2.021123, gamma = 0.094765071427957, accuracy: 42.405063291139236%\n",
      "Time used: 1.4181100000000004\n",
      "[INFO] iterator: 4\n",
      "[INFO] C = 2.107129, gamma = 0.098020486303253, accuracy: 42.405063291139236%\n",
      "Time used: 1.470561\n",
      "[INFO] iterator: 5\n",
      "[INFO] C = 2.193135, gamma = 0.101275901178549, accuracy: 42.405063291139236%\n",
      "Time used: 1.4409159999999996\n",
      "[INFO] iterator: 6\n",
      "[INFO] C = 2.279140, gamma = 0.104531316053846, accuracy: 42.405063291139236%\n",
      "Time used: 1.4253239999999998\n",
      "[INFO] iterator: 7\n",
      "[INFO] C = 2.365146, gamma = 0.107786730929142, accuracy: 42.405063291139236%\n",
      "Time used: 1.4914059999999996\n",
      "[INFO] iterator: 8\n",
      "[INFO] C = 2.451152, gamma = 0.111042145804438, accuracy: 42.405063291139236%\n",
      "Time used: 1.4927360000000007\n",
      "[INFO] iterator: 9\n",
      "[INFO] C = 2.537158, gamma = 0.114297560679734, accuracy: 42.405063291139236%\n",
      "Time used: 1.3729680000000002\n",
      "[INFO] iterator: 10\n",
      "[INFO] C = 2.623164, gamma = 0.117552975555031, accuracy: 42.405063291139236%\n",
      "Time used: 1.2736739999999998\n",
      "[INFO] iterator: 11\n",
      "[INFO] C = 2.709170, gamma = 0.120808390430327, accuracy: 42.405063291139236%\n",
      "Time used: 1.2790490000000005\n",
      "[INFO] iterator: 12\n",
      "[INFO] C = 2.795176, gamma = 0.124063805305623, accuracy: 42.405063291139236%\n",
      "Time used: 1.3056149999999995\n",
      "[INFO] iterator: 13\n",
      "[INFO] C = 2.881182, gamma = 0.127319220180919, accuracy: 42.405063291139236%\n",
      "Time used: 1.3667289999999994\n",
      "[INFO] iterator: 14\n",
      "[INFO] C = 2.967188, gamma = 0.130574635056216, accuracy: 42.405063291139236%\n",
      "Time used: 1.4090060000000015\n",
      "[INFO] iterator: 15\n",
      "[INFO] C = 3.053194, gamma = 0.133830049931512, accuracy: 42.405063291139236%\n",
      "Time used: 1.340242\n",
      "[INFO] iterator: 16\n",
      "[INFO] C = 3.139200, gamma = 0.137085464806808, accuracy: 42.405063291139236%\n",
      "Time used: 1.3929839999999984\n",
      "[INFO] iterator: 17\n",
      "[INFO] C = 3.225206, gamma = 0.140340879682104, accuracy: 42.405063291139236%\n",
      "Time used: 1.362005\n",
      "[INFO] iterator: 18\n",
      "[INFO] C = 3.311212, gamma = 0.143596294557401, accuracy: 42.405063291139236%\n",
      "Time used: 1.3503190000000025\n",
      "[INFO] iterator: 19\n",
      "[INFO] C = 3.397218, gamma = 0.146851709432697, accuracy: 42.405063291139236%\n",
      "Time used: 1.3100370000000012\n"
     ]
    }
   ],
   "source": [
    "fitness = my_pso.iterator() "
   ]
  },
  {
   "cell_type": "code",
   "execution_count": 13,
   "metadata": {},
   "outputs": [
    {
     "name": "stdout",
     "output_type": "stream",
     "text": [
      "\n",
      "\n",
      "[INFO] GLCM accuracy...\n",
      "C =  3.397217811995195 gamma =  0.146851709432697\n",
      "[INFO] SVM-SVC GLCM accuracy: 40.1898734177%\n"
     ]
    },
    {
     "name": "stderr",
     "output_type": "stream",
     "text": [
      "/home/huiqy/anaconda3/lib/python3.6/site-packages/sklearn/svm/base.py:218: ConvergenceWarning: Solver terminated early (max_iter=1000).  Consider pre-processing your data with StandardScaler or MinMaxScaler.\n",
      "  % self.max_iter, ConvergenceWarning)\n"
     ]
    }
   ],
   "source": [
    "# SVC\n",
    "print(\"\\n\")\n",
    "print(\"[INFO] GLCM accuracy...\")\n",
    "print (\"C = \", my_pso.gbest[0],\"gamma = \", my_pso.gbest[1])\n",
    "model = SVC(max_iter=1000, class_weight='balanced',C = my_pso.gbest[0],gamma = my_pso.gbest[1])\n",
    "model.fit(trainImage_GLCM, trainLabels)\n",
    "acc = model.score(testImage_GLCM, testLabels)\n",
    "print(\"[INFO] SVM-SVC GLCM accuracy: {:.10f}%\".format(acc * 100))\n"
   ]
  },
  {
   "cell_type": "code",
   "execution_count": null,
   "metadata": {},
   "outputs": [],
   "source": []
  }
 ],
 "metadata": {
  "anaconda-cloud": {},
  "kernelspec": {
   "display_name": "Python 3",
   "language": "python",
   "name": "python3"
  },
  "language_info": {
   "codemirror_mode": {
    "name": "ipython",
    "version": 3
   },
   "file_extension": ".py",
   "mimetype": "text/x-python",
   "name": "python",
   "nbconvert_exporter": "python",
   "pygments_lexer": "ipython3",
   "version": "3.6.4"
  }
 },
 "nbformat": 4,
 "nbformat_minor": 2
}
