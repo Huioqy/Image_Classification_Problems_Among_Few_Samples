{
 "cells": [
  {
   "cell_type": "code",
   "execution_count": 1,
   "metadata": {
    "collapsed": false
   },
   "outputs": [
    {
     "name": "stderr",
     "output_type": "stream",
     "text": [
      "/home/huiqy/anaconda3/lib/python3.6/site-packages/sklearn/cross_validation.py:41: DeprecationWarning: This module was deprecated in version 0.18 in favor of the model_selection module into which all the refactored classes and functions are moved. Also note that the interface of the new CV iterators are different from that of this module. This module will be removed in 0.20.\n",
      "  \"This module will be removed in 0.20.\", DeprecationWarning)\n"
     ]
    }
   ],
   "source": [
    "# coding: utf-8  \n",
    "import numpy as np    \n",
    "import random     \n",
    "import matplotlib.pyplot as plt \n",
    "from sklearn.neighbors import KNeighborsClassifier\n",
    "from sklearn.neural_network import MLPClassifier\n",
    "from sklearn.svm import SVC\n",
    "from sklearn.cross_validation import train_test_split\n",
    "from sklearn.preprocessing import StandardScaler, LabelEncoder\n",
    "from sklearn.model_selection import StratifiedShuffleSplit\n",
    "from imutils import paths\n",
    "import imutils\n",
    "import cv2\n",
    "import os\n",
    "\n",
    "import time\n"
   ]
  },
  {
   "cell_type": "code",
   "execution_count": 2,
   "metadata": {
    "collapsed": false
   },
   "outputs": [
    {
     "name": "stdout",
     "output_type": "stream",
     "text": [
      "(2000,)\n",
      "[0 0 0 ... 3 3 3]\n",
      "(316,)\n",
      "[0 0 0 0 0 0 0 0 0 0 0 0 0 0 0 0 0 0 0 0 0 0 0 0 0 0 0 0 0 0 0 0 0 0 0 0 0\n",
      " 0 0 0 0 0 0 0 0 0 0 0 0 0 0 0 0 0 0 0 0 0 0 0 0 0 0 0 0 0 0 0 0 0 0 0 0 0\n",
      " 0 0 0 0 0 1 1 1 1 1 1 1 1 1 1 1 1 1 1 1 1 1 1 1 1 1 1 1 1 1 1 1 1 1 1 1 1\n",
      " 1 1 1 1 1 1 1 1 1 1 1 1 1 1 1 1 1 1 1 1 1 1 1 1 1 1 1 1 1 1 1 1 1 1 1 1 1\n",
      " 1 1 1 1 1 1 1 1 1 1 2 2 2 2 2 2 2 2 2 2 2 2 2 2 2 2 2 2 2 2 2 2 2 2 2 2 2\n",
      " 2 2 2 2 2 2 2 2 2 2 2 2 2 2 2 2 2 2 2 2 2 2 2 2 2 2 2 2 2 2 2 2 2 2 2 2 2\n",
      " 2 2 2 2 2 2 2 2 2 2 2 2 2 2 2 3 3 3 3 3 3 3 3 3 3 3 3 3 3 3 3 3 3 3 3 3 3\n",
      " 3 3 3 3 3 3 3 3 3 3 3 3 3 3 3 3 3 3 3 3 3 3 3 3 3 3 3 3 3 3 3 3 3 3 3 3 3\n",
      " 3 3 3 3 3 3 3 3 3 3 3 3 3 3 3 3 3 3 3 3]\n"
     ]
    }
   ],
   "source": [
    "trainLabels = np.load('./trainLabels.npy')\n",
    "testLabels= np.load('./testLabels.npy')\n",
    "\n",
    "print(trainLabels.shape)\n",
    "print(trainLabels)\n",
    "print(testLabels.shape)\n",
    "print(testLabels)"
   ]
  },
  {
   "cell_type": "code",
   "execution_count": 3,
   "metadata": {
    "collapsed": false
   },
   "outputs": [
    {
     "name": "stdout",
     "output_type": "stream",
     "text": [
      "(2000, 1024)\n",
      "[[ 2.0514147  -0.5341815  -0.5007815  ... -0.5217887  -0.5457669\n",
      "  -0.46136367]\n",
      " [-0.48746487 -0.5341815  -0.5007815  ... -0.5217887  -0.5457669\n",
      "  -0.46136367]\n",
      " [-0.48746487 -0.5341815  -0.5007815  ... -0.5217887  -0.5457669\n",
      "  -0.46136367]\n",
      " ...\n",
      " [-0.48746487 -0.5341815  -0.5007815  ... -0.5217887   1.8323023\n",
      "  -0.46136367]\n",
      " [-0.48746487 -0.5341815  -0.5007815  ... -0.5217887  -0.5457669\n",
      "  -0.46136367]\n",
      " [ 2.0514147   1.8720412  -0.5007815  ... -0.5217887  -0.5457669\n",
      "  -0.46136367]]\n",
      "(316, 1024)\n",
      "[[-0.48746487 -0.5341815  -0.5007815  ... -0.5217887  -0.5457669\n",
      "  -0.46136367]\n",
      " [-0.48746487  1.8720412  -0.5007815  ... -0.5217887  -0.5457669\n",
      "   2.1674893 ]\n",
      " [-0.48746487 -0.5341815  -0.5007815  ... -0.5217887   1.8323023\n",
      "  -0.46136367]\n",
      " ...\n",
      " [-0.48746487 -0.5341815  -0.5007815  ... -0.5217887   1.8323023\n",
      "  -0.46136367]\n",
      " [ 2.0514147   1.8720412   1.9968818  ...  1.9164762   1.8323023\n",
      "  -0.46136367]\n",
      " [-0.48746487 -0.5341815  -0.5007815  ...  1.9164762  -0.5457669\n",
      "   2.1674893 ]]\n"
     ]
    }
   ],
   "source": [
    "trainImage_canny = np.load('./trainImage_canny_gray.npy')\n",
    "testImage_canny = np.load('./testImage_canny_gray.npy')\n",
    "print(trainImage_canny.shape)\n",
    "print(trainImage_canny)\n",
    "print(testImage_canny.shape)\n",
    "print(testImage_canny)"
   ]
  },
  {
   "cell_type": "code",
   "execution_count": 4,
   "metadata": {
    "collapsed": false
   },
   "outputs": [
    {
     "name": "stdout",
     "output_type": "stream",
     "text": [
      "(2000, 1024)\n",
      "1024\n",
      "0.0009765625\n"
     ]
    }
   ],
   "source": [
    "n_feature = trainImage_canny.shape[1]\n",
    "gamma_init = 1/n_feature\n",
    "print (trainImage_canny.shape)\n",
    "print (n_feature)\n",
    "print (gamma_init)"
   ]
  },
  {
   "cell_type": "code",
   "execution_count": 5,
   "metadata": {
    "collapsed": false
   },
   "outputs": [
    {
     "name": "stdout",
     "output_type": "stream",
     "text": [
      "\n",
      "\n",
      "[INFO] canny accuracy...\n"
     ]
    },
    {
     "name": "stderr",
     "output_type": "stream",
     "text": [
      "/home/huiqy/anaconda3/lib/python3.6/site-packages/sklearn/svm/base.py:218: ConvergenceWarning: Solver terminated early (max_iter=200).  Consider pre-processing your data with StandardScaler or MinMaxScaler.\n",
      "  % self.max_iter, ConvergenceWarning)\n"
     ]
    },
    {
     "name": "stdout",
     "output_type": "stream",
     "text": [
      "[INFO] SVM-SVC accuracy: 30.38%\n"
     ]
    }
   ],
   "source": [
    "# SVC\n",
    "print(\"\\n\")\n",
    "print(\"[INFO] canny accuracy...\")\n",
    "model_SVM = SVC(max_iter=200, class_weight='balanced' )\n",
    "model_SVM.fit(trainImage_canny, trainLabels)\n",
    "acc = model_SVM.score(testImage_canny, testLabels)\n",
    "print(\"[INFO] SVM-SVC accuracy: {:.2f}%\".format(acc * 100))"
   ]
  },
  {
   "cell_type": "code",
   "execution_count": 6,
   "metadata": {
    "collapsed": false
   },
   "outputs": [
    {
     "name": "stdout",
     "output_type": "stream",
     "text": [
      "\n",
      "\n",
      "[INFO] canny accuracy...\n"
     ]
    },
    {
     "name": "stderr",
     "output_type": "stream",
     "text": [
      "/home/huiqy/anaconda3/lib/python3.6/site-packages/sklearn/svm/base.py:218: ConvergenceWarning: Solver terminated early (max_iter=1000).  Consider pre-processing your data with StandardScaler or MinMaxScaler.\n",
      "  % self.max_iter, ConvergenceWarning)\n"
     ]
    },
    {
     "name": "stdout",
     "output_type": "stream",
     "text": [
      "[INFO] SVM-SVC accuracy: 29.11%\n"
     ]
    }
   ],
   "source": [
    "# SVC\n",
    "print(\"\\n\")\n",
    "print(\"[INFO] canny accuracy...\")\n",
    "model_SVM = SVC(max_iter=1000, class_weight='balanced' )\n",
    "model_SVM.fit(trainImage_canny, trainLabels)\n",
    "acc = model_SVM.score(testImage_canny, testLabels)\n",
    "print(\"[INFO] SVM-SVC accuracy: {:.2f}%\".format(acc * 100))"
   ]
  },
  {
   "cell_type": "code",
   "execution_count": 7,
   "metadata": {
    "collapsed": false
   },
   "outputs": [
    {
     "name": "stdout",
     "output_type": "stream",
     "text": [
      "\n",
      "\n",
      "[INFO] canny accuracy...\n",
      "[INFO] SVM-SVC accuracy: 29.11%\n"
     ]
    }
   ],
   "source": [
    "# SVC\n",
    "print(\"\\n\")\n",
    "print(\"[INFO] canny accuracy...\")\n",
    "model_SVM = SVC(max_iter=10000, class_weight='balanced' )\n",
    "model_SVM.fit(trainImage_canny, trainLabels)\n",
    "acc = model_SVM.score(testImage_canny, testLabels)\n",
    "print(\"[INFO] SVM-SVC accuracy: {:.2f}%\".format(acc * 100))"
   ]
  },
  {
   "cell_type": "code",
   "execution_count": 8,
   "metadata": {
    "collapsed": false
   },
   "outputs": [
    {
     "data": {
      "text/plain": [
       "SVC(C=1.0, cache_size=200, class_weight='balanced', coef0=0.0,\n",
       "  decision_function_shape='ovr', degree=3, gamma='auto', kernel='rbf',\n",
       "  max_iter=10000, probability=False, random_state=None, shrinking=True,\n",
       "  tol=0.001, verbose=False)"
      ]
     },
     "execution_count": 8,
     "metadata": {},
     "output_type": "execute_result"
    }
   ],
   "source": [
    "model_SVM"
   ]
  },
  {
   "cell_type": "code",
   "execution_count": 9,
   "metadata": {
    "collapsed": true
   },
   "outputs": [],
   "source": [
    "#----------------------PSO参数设置---------------------------------    \n",
    "class PSO():    \n",
    "    def __init__(self,pN,max_iter):    \n",
    "        self.w = 0.8      \n",
    "        self.c1 = 1  \n",
    "        self.r1= 0.6 \n",
    "        self.c2 = 1       \n",
    "        self.r2=0.3    \n",
    "        self.pN = pN                #粒子数量    \n",
    "        self.dim = 2                #搜索维度    C & gamma\n",
    "        self.max_iter = max_iter    #迭代次数    \n",
    "        self.X = np.zeros((self.pN,self.dim))       #所有粒子的位置度    \n",
    "        self.V = np.zeros((self.pN,self.dim))       #所有粒子的速度  \n",
    "        self.pbest = np.zeros((self.pN,self.dim))   #个体经历的最佳位置   \n",
    "        self.gbest = np.zeros((1,self.dim))         #全局最佳位置    \n",
    "        self.p_fit = np.zeros(self.pN)              #每个个体的历史最佳适应值    \n",
    "        self.fit = 0.250000000             #全局最佳适应值    \n",
    "        \n",
    "#---------------------目标函数SVM----------------------------    \n",
    "    def SVM_function(self,x):    \n",
    "        clf = SVC(max_iter=1000, class_weight='balanced' ,C = x[0], gamma = x[1])\n",
    "        clf.fit(trainImage_canny, trainLabels)\n",
    "        acc = clf.score(testImage_canny, testLabels)\n",
    "        #print(\"[INFO] C = {:.10f}, gamma = {:.10f}, accuracy: {:.2f}%\".format(x[0], x[1], acc * 100))\n",
    "        return acc  \n",
    "    \n",
    "#---------------------初始化种群----------------------------------    \n",
    "    def init_Population(self):    \n",
    "        for i in range(self.pN):     #粒子数量\n",
    "#             for j in range(self.dim):  #搜索维度\n",
    "            self.X[i][0] = random.uniform(0,2)  #C  \n",
    "            self.V[i][0] = random.uniform(0,0.1)  \n",
    "            self.X[i][1] = random.uniform(gamma_init/2,gamma_init*2)    #gamma\n",
    "            self.V[i][1] = random.uniform(gamma_init/100,gamma_init/10)    \n",
    "            self.pbest[i] = self.X[i]    \n",
    "            tmp = self.SVM_function(self.X[i])\n",
    "            print(\"[INFO] {:.1f} C = {:.6f}, gamma = {:.15f}, accuracy: {:.15f}%\".format(i, self.X[i][0], self.X[i][1], tmp * 100))\n",
    "            self.p_fit[i] = tmp    #每个个体的历史最佳适应值 \n",
    "            if(tmp > self.fit):    \n",
    "                self.fit = tmp    \n",
    "                self.gbest = self.X[i]    \n",
    "        \n",
    "#----------------------更新粒子位置----------------------------------    \n",
    "    def iterator(self):    \n",
    "        fitness = []    \n",
    "        for t in range(self.max_iter):\n",
    "            print (\"[INFO] iterator: {:.0f}\".format(t))\n",
    "            start = time.clock()\n",
    "            for i in range(self.pN):         #更新gbest\\pbest    \n",
    "                temp = self.SVM_function(self.X[i])    \n",
    "                if(temp > self.p_fit[i]):      #更新个体最优    \n",
    "                    self.p_fit[i] = temp    \n",
    "                    self.pbest[i] = self.X[i]    \n",
    "                    if(self.p_fit[i] > self.fit):  #更新全局最优    \n",
    "                        self.gbest = self.X[i]    \n",
    "                        self.fit = self.p_fit[i]    \n",
    "            for i in range(self.pN):   \n",
    "                tempV = self.w*self.V[i] + self.c1*self.r1*(self.pbest[i] - self.X[i]) + \\\n",
    "                            self.c2*self.r2*(self.gbest - self.X[i])\n",
    "                tempX = self.X[i] + self.V[i]\n",
    "                if (tempX[i]> 0 for i in range( self.dim)):\n",
    "                    self.X[i] = self.X[i] + self.V[i] \n",
    "                else:\n",
    "                    self.X[i] = self.X[i] /3 * 2\n",
    "            fitness.append(self.fit) \n",
    "            print(\"[INFO] C = {:.6f}, gamma = {:.15f}, accuracy: {:.15f}%\".format( self.gbest[0], self.gbest[1], self.fit * 100))\n",
    "            elapsed = (time.clock() - start)\n",
    "            print(\"Time used:\",elapsed)\n",
    "            #print(self.fit)                   #输出最优值  \n",
    "            #print(self.gbest)                   #输出全局最佳位置   \n",
    "        return fitness    \n",
    "  \n",
    " \n",
    "#当中是你的程序\n",
    " \n"
   ]
  },
  {
   "cell_type": "code",
   "execution_count": 10,
   "metadata": {
    "collapsed": false
   },
   "outputs": [
    {
     "name": "stdout",
     "output_type": "stream",
     "text": [
      "[INFO] 0.0 C = 0.224077, gamma = 0.001586781388187, accuracy: 25.000000000000000%\n"
     ]
    },
    {
     "name": "stderr",
     "output_type": "stream",
     "text": [
      "/home/huiqy/anaconda3/lib/python3.6/site-packages/sklearn/svm/base.py:218: ConvergenceWarning: Solver terminated early (max_iter=1000).  Consider pre-processing your data with StandardScaler or MinMaxScaler.\n",
      "  % self.max_iter, ConvergenceWarning)\n"
     ]
    },
    {
     "name": "stdout",
     "output_type": "stream",
     "text": [
      "[INFO] 1.0 C = 0.906873, gamma = 0.001607803687606, accuracy: 26.582278481012654%\n",
      "[INFO] 2.0 C = 0.322401, gamma = 0.001549745359042, accuracy: 25.000000000000000%\n",
      "[INFO] 3.0 C = 1.140710, gamma = 0.000576959742722, accuracy: 30.063291139240505%\n",
      "[INFO] 4.0 C = 0.298218, gamma = 0.001140598204663, accuracy: 26.582278481012654%\n",
      "[INFO] 5.0 C = 1.510204, gamma = 0.001518159590161, accuracy: 27.215189873417721%\n",
      "[INFO] 6.0 C = 0.505694, gamma = 0.001226073908604, accuracy: 26.582278481012654%\n",
      "[INFO] 7.0 C = 0.820074, gamma = 0.000588836586437, accuracy: 29.430379746835445%\n"
     ]
    }
   ],
   "source": [
    "my_pso = PSO(pN=8,max_iter=5)    \n",
    "my_pso.init_Population()    \n"
   ]
  },
  {
   "cell_type": "code",
   "execution_count": 11,
   "metadata": {
    "collapsed": false
   },
   "outputs": [
    {
     "name": "stdout",
     "output_type": "stream",
     "text": [
      "0.30063291139240506\n",
      "[1.14070978e+00 5.76959743e-04]\n"
     ]
    }
   ],
   "source": [
    "print (my_pso.fit)\n",
    "print (my_pso.gbest)"
   ]
  },
  {
   "cell_type": "code",
   "execution_count": 12,
   "metadata": {
    "collapsed": false
   },
   "outputs": [
    {
     "name": "stdout",
     "output_type": "stream",
     "text": [
      "[INFO] iterator: 0\n"
     ]
    },
    {
     "name": "stderr",
     "output_type": "stream",
     "text": [
      "/home/huiqy/anaconda3/lib/python3.6/site-packages/sklearn/svm/base.py:218: ConvergenceWarning: Solver terminated early (max_iter=1000).  Consider pre-processing your data with StandardScaler or MinMaxScaler.\n",
      "  % self.max_iter, ConvergenceWarning)\n"
     ]
    },
    {
     "name": "stdout",
     "output_type": "stream",
     "text": [
      "[INFO] C = 1.229471, gamma = 0.000615693329171, accuracy: 30.063291139240505%\n",
      "Time used: 84.922933\n",
      "[INFO] iterator: 1\n",
      "[INFO] C = 1.318232, gamma = 0.000654426915619, accuracy: 30.063291139240505%\n",
      "Time used: 83.095425\n",
      "[INFO] iterator: 2\n",
      "[INFO] C = 1.406993, gamma = 0.000693160502068, accuracy: 30.063291139240505%\n",
      "Time used: 81.48117000000002\n",
      "[INFO] iterator: 3\n",
      "[INFO] C = 1.495754, gamma = 0.000731894088516, accuracy: 30.063291139240505%\n",
      "Time used: 81.58982599999996\n",
      "[INFO] iterator: 4\n",
      "[INFO] C = 1.584515, gamma = 0.000770627674965, accuracy: 30.379746835443040%\n",
      "Time used: 72.47537999999997\n"
     ]
    }
   ],
   "source": [
    "fitness = my_pso.iterator() "
   ]
  },
  {
   "cell_type": "code",
   "execution_count": 13,
   "metadata": {
    "collapsed": false
   },
   "outputs": [
    {
     "name": "stdout",
     "output_type": "stream",
     "text": [
      "\n",
      "\n",
      "[INFO] canny accuracy...\n",
      "C =  1.58451540124838 gamma =  0.0007706276749649414\n"
     ]
    },
    {
     "name": "stderr",
     "output_type": "stream",
     "text": [
      "/home/huiqy/anaconda3/lib/python3.6/site-packages/sklearn/svm/base.py:218: ConvergenceWarning: Solver terminated early (max_iter=1000).  Consider pre-processing your data with StandardScaler or MinMaxScaler.\n",
      "  % self.max_iter, ConvergenceWarning)\n"
     ]
    },
    {
     "name": "stdout",
     "output_type": "stream",
     "text": [
      "[INFO] SVM-SVC GLCM accuracy: 30.3797468354%\n"
     ]
    }
   ],
   "source": [
    "# SVC\n",
    "print(\"\\n\")\n",
    "print(\"[INFO] canny accuracy...\")\n",
    "print (\"C = \", my_pso.gbest[0],\"gamma = \", my_pso.gbest[1])\n",
    "model = SVC(max_iter=1000, class_weight='balanced',C = my_pso.gbest[0],gamma = my_pso.gbest[1])\n",
    "model.fit(trainImage_canny, trainLabels)\n",
    "acc = model.score(testImage_canny, testLabels)\n",
    "print(\"[INFO] SVM-SVC GLCM accuracy: {:.10f}%\".format(acc * 100))\n"
   ]
  },
  {
   "cell_type": "code",
   "execution_count": null,
   "metadata": {
    "collapsed": true
   },
   "outputs": [],
   "source": []
  }
 ],
 "metadata": {
  "anaconda-cloud": {},
  "kernelspec": {
   "display_name": "Python [default]",
   "language": "python",
   "name": "python3"
  },
  "language_info": {
   "codemirror_mode": {
    "name": "ipython",
    "version": 3
   },
   "file_extension": ".py",
   "mimetype": "text/x-python",
   "name": "python",
   "nbconvert_exporter": "python",
   "pygments_lexer": "ipython3",
   "version": "3.5.2"
  }
 },
 "nbformat": 4,
 "nbformat_minor": 2
}
