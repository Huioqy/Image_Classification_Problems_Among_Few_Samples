{
 "cells": [
  {
   "cell_type": "code",
   "execution_count": 1,
   "metadata": {},
   "outputs": [
    {
     "name": "stderr",
     "output_type": "stream",
     "text": [
      "/home/huiqy/anaconda3/lib/python3.6/site-packages/sklearn/cross_validation.py:41: DeprecationWarning: This module was deprecated in version 0.18 in favor of the model_selection module into which all the refactored classes and functions are moved. Also note that the interface of the new CV iterators are different from that of this module. This module will be removed in 0.20.\n",
      "  \"This module will be removed in 0.20.\", DeprecationWarning)\n"
     ]
    }
   ],
   "source": [
    "# coding: utf-8  \n",
    "import numpy as np    \n",
    "import random     \n",
    "import matplotlib.pyplot as plt \n",
    "from sklearn.neighbors import KNeighborsClassifier\n",
    "from sklearn.neural_network import MLPClassifier\n",
    "from sklearn.svm import SVC\n",
    "from sklearn.cross_validation import train_test_split\n",
    "from sklearn.preprocessing import StandardScaler, LabelEncoder\n",
    "from sklearn.model_selection import StratifiedShuffleSplit\n",
    "from imutils import paths\n",
    "import imutils\n",
    "import cv2\n",
    "import os\n",
    "\n",
    "import time\n"
   ]
  },
  {
   "cell_type": "code",
   "execution_count": 2,
   "metadata": {},
   "outputs": [
    {
     "name": "stdout",
     "output_type": "stream",
     "text": [
      "(4000,)\n",
      "[0 0 0 ... 1 1 1]\n",
      "(156,)\n",
      "[0 0 0 0 0 0 0 0 0 0 0 0 0 0 0 0 0 0 0 0 0 0 0 0 0 0 0 0 0 0 0 0 0 0 0 0 0\n",
      " 0 0 0 0 0 0 0 0 0 0 0 0 0 0 0 0 0 0 0 0 0 0 0 0 0 0 0 0 0 0 0 0 0 0 0 0 0\n",
      " 0 0 0 0 1 1 1 1 1 1 1 1 1 1 1 1 1 1 1 1 1 1 1 1 1 1 1 1 1 1 1 1 1 1 1 1 1\n",
      " 1 1 1 1 1 1 1 1 1 1 1 1 1 1 1 1 1 1 1 1 1 1 1 1 1 1 1 1 1 1 1 1 1 1 1 1 1\n",
      " 1 1 1 1 1 1 1 1]\n"
     ]
    }
   ],
   "source": [
    "trainLabels = np.load('./trainLabels.npy')\n",
    "testLabels= np.load('./testLabels.npy')\n",
    "\n",
    "print(trainLabels.shape)\n",
    "print(trainLabels)\n",
    "print(testLabels.shape)\n",
    "print(testLabels)"
   ]
  },
  {
   "cell_type": "code",
   "execution_count": 3,
   "metadata": {},
   "outputs": [
    {
     "name": "stdout",
     "output_type": "stream",
     "text": [
      "(4000, 12)\n",
      "[[-1.276259    3.350456    2.9371698  ...  3.4953291   2.8626313\n",
      "  -3.0118313 ]\n",
      " [-0.42115575 -0.4076256  -0.23537718 ... -0.43081677 -0.22521682\n",
      "   0.17186883]\n",
      " [-0.8215115  -0.21606909  0.8169348  ... -0.14815657  0.99275935\n",
      "  -0.48324254]\n",
      " ...\n",
      " [-0.28911066  0.3986605   0.3586868  ...  0.3387955   0.2869604\n",
      "   0.17098439]\n",
      " [ 0.80959946 -0.50991106 -1.2585119  ... -0.5441379  -1.2809687\n",
      "   1.0956105 ]\n",
      " [ 0.8242722   0.7291056  -0.33527556 ...  1.0575477  -0.35625413\n",
      "  -0.07188296]]\n",
      "(156, 12)\n",
      "[[-1.0168375   0.24183181  1.3847561  ...  0.07182566  1.1371584\n",
      "  -0.11106583]\n",
      " [-1.2805024   1.9171038   2.3320024  ...  1.1695168   2.0000257\n",
      "  -2.127753  ]\n",
      " [ 0.20086713 -0.19010797 -0.35333407 ... -0.3156762  -0.5046965\n",
      "   0.12916727]\n",
      " ...\n",
      " [-1.0668086   0.61432534  1.4545226  ...  0.3683902   1.2542818\n",
      "  -1.7588327 ]\n",
      " [-1.0688765   0.49055248  1.3771633  ...  0.32951483  1.2785486\n",
      "  -1.2747145 ]\n",
      " [-1.1842498   0.73601955  1.8779035  ...  0.53345615  1.7367922\n",
      "  -1.482169  ]]\n"
     ]
    }
   ],
   "source": [
    "trainImage_GLCM = np.load('./trainImage_GLCM.npy')\n",
    "testImage_GLCM = np.load('./testImage_GLCM.npy')\n",
    "print(trainImage_GLCM.shape)\n",
    "print(trainImage_GLCM)\n",
    "print(testImage_GLCM.shape)\n",
    "print(testImage_GLCM)"
   ]
  },
  {
   "cell_type": "code",
   "execution_count": 4,
   "metadata": {},
   "outputs": [
    {
     "name": "stdout",
     "output_type": "stream",
     "text": [
      "(4000, 12)\n",
      "12\n",
      "0.08333333333333333\n"
     ]
    }
   ],
   "source": [
    "n_feature = trainImage_GLCM.shape[1]\n",
    "gamma_init = 1/n_feature\n",
    "print (trainImage_GLCM.shape)\n",
    "print (n_feature)\n",
    "print (gamma_init)"
   ]
  },
  {
   "cell_type": "code",
   "execution_count": 5,
   "metadata": {},
   "outputs": [
    {
     "name": "stdout",
     "output_type": "stream",
     "text": [
      "\n",
      "\n",
      "[INFO] GLCM accuracy...\n",
      "[INFO] SVM-SVC accuracy: 62.82%\n"
     ]
    },
    {
     "name": "stderr",
     "output_type": "stream",
     "text": [
      "/home/huiqy/anaconda3/lib/python3.6/site-packages/sklearn/svm/base.py:218: ConvergenceWarning: Solver terminated early (max_iter=200).  Consider pre-processing your data with StandardScaler or MinMaxScaler.\n",
      "  % self.max_iter, ConvergenceWarning)\n"
     ]
    }
   ],
   "source": [
    "# SVC\n",
    "print(\"\\n\")\n",
    "print(\"[INFO] GLCM accuracy...\")\n",
    "model_SVM = SVC(max_iter=200, class_weight='balanced' )\n",
    "model_SVM.fit(trainImage_GLCM, trainLabels)\n",
    "acc = model_SVM.score(testImage_GLCM, testLabels)\n",
    "print(\"[INFO] SVM-SVC accuracy: {:.2f}%\".format(acc * 100))"
   ]
  },
  {
   "cell_type": "code",
   "execution_count": 6,
   "metadata": {},
   "outputs": [
    {
     "name": "stdout",
     "output_type": "stream",
     "text": [
      "\n",
      "\n",
      "[INFO] GLCM accuracy...\n",
      "[INFO] SVM-SVC accuracy: 67.31%\n"
     ]
    },
    {
     "name": "stderr",
     "output_type": "stream",
     "text": [
      "/home/huiqy/anaconda3/lib/python3.6/site-packages/sklearn/svm/base.py:218: ConvergenceWarning: Solver terminated early (max_iter=1000).  Consider pre-processing your data with StandardScaler or MinMaxScaler.\n",
      "  % self.max_iter, ConvergenceWarning)\n"
     ]
    }
   ],
   "source": [
    "# SVC\n",
    "print(\"\\n\")\n",
    "print(\"[INFO] GLCM accuracy...\")\n",
    "model_SVM = SVC(max_iter=1000, class_weight='balanced' )\n",
    "model_SVM.fit(trainImage_GLCM, trainLabels)\n",
    "acc = model_SVM.score(testImage_GLCM, testLabels)\n",
    "print(\"[INFO] SVM-SVC accuracy: {:.2f}%\".format(acc * 100))"
   ]
  },
  {
   "cell_type": "code",
   "execution_count": 7,
   "metadata": {},
   "outputs": [
    {
     "name": "stdout",
     "output_type": "stream",
     "text": [
      "\n",
      "\n",
      "[INFO] GLCM accuracy...\n",
      "[INFO] SVM-SVC accuracy: 67.31%\n"
     ]
    }
   ],
   "source": [
    "# SVC\n",
    "print(\"\\n\")\n",
    "print(\"[INFO] GLCM accuracy...\")\n",
    "model_SVM = SVC(max_iter=10000, class_weight='balanced' )\n",
    "model_SVM.fit(trainImage_GLCM, trainLabels)\n",
    "acc = model_SVM.score(testImage_GLCM, testLabels)\n",
    "print(\"[INFO] SVM-SVC accuracy: {:.2f}%\".format(acc * 100))"
   ]
  },
  {
   "cell_type": "code",
   "execution_count": 8,
   "metadata": {},
   "outputs": [
    {
     "data": {
      "text/plain": [
       "SVC(C=1.0, cache_size=200, class_weight='balanced', coef0=0.0,\n",
       "  decision_function_shape='ovr', degree=3, gamma='auto', kernel='rbf',\n",
       "  max_iter=10000, probability=False, random_state=None, shrinking=True,\n",
       "  tol=0.001, verbose=False)"
      ]
     },
     "execution_count": 8,
     "metadata": {},
     "output_type": "execute_result"
    }
   ],
   "source": [
    "model_SVM"
   ]
  },
  {
   "cell_type": "code",
   "execution_count": 9,
   "metadata": {},
   "outputs": [],
   "source": [
    "#----------------------PSO参数设置---------------------------------    \n",
    "class PSO():    \n",
    "    def __init__(self,pN,max_iter):    \n",
    "        self.w = 0.8      \n",
    "        self.c1 = 1  \n",
    "        self.r1= 0.6 \n",
    "        self.c2 = 1       \n",
    "        self.r2=0.3    \n",
    "        self.pN = pN                #粒子数量    \n",
    "        self.dim = 2                #搜索维度    C & gamma\n",
    "        self.max_iter = max_iter    #迭代次数    \n",
    "        self.X = np.zeros((self.pN,self.dim))       #所有粒子的位置度    \n",
    "        self.V = np.zeros((self.pN,self.dim))       #所有粒子的速度  \n",
    "        self.pbest = np.zeros((self.pN,self.dim))   #个体经历的最佳位置   \n",
    "        self.gbest = np.zeros((1,self.dim))         #全局最佳位置    \n",
    "        self.p_fit = np.zeros(self.pN)              #每个个体的历史最佳适应值    \n",
    "        self.fit = 0.300000000             #全局最佳适应值    \n",
    "        \n",
    "#---------------------目标函数SVM----------------------------    \n",
    "    def SVM_function(self,x):    \n",
    "        clf = SVC(max_iter=10000, class_weight='balanced' ,C = x[0], gamma = x[1])\n",
    "        clf.fit(trainImage_GLCM, trainLabels)\n",
    "        acc = clf.score(testImage_GLCM, testLabels)\n",
    "        #print(\"[INFO] C = {:.10f}, gamma = {:.10f}, accuracy: {:.2f}%\".format(x[0], x[1], acc * 100))\n",
    "        return acc  \n",
    "    \n",
    "#---------------------初始化种群----------------------------------    \n",
    "    def init_Population(self):    \n",
    "        for i in range(self.pN):     #粒子数量\n",
    "#             for j in range(self.dim):  #搜索维度\n",
    "            self.X[i][0] = random.uniform(0,2)  #C  \n",
    "            self.V[i][0] = random.uniform(0,0.1)  \n",
    "            self.X[i][1] = random.uniform(gamma_init/2,gamma_init*2)    #gamma\n",
    "            self.V[i][1] = random.uniform(gamma_init/100,gamma_init/10)    \n",
    "            self.pbest[i] = self.X[i]    \n",
    "            tmp = self.SVM_function(self.X[i])\n",
    "            print(\"[INFO] {:.1f} C = {:.6f}, gamma = {:.15f}, accuracy: {:.15f}%\".format(i, self.X[i][0], self.X[i][1], tmp * 100))\n",
    "            self.p_fit[i] = tmp    #每个个体的历史最佳适应值 \n",
    "            if(tmp > self.fit):    \n",
    "                self.fit = tmp    \n",
    "                self.gbest = self.X[i]    \n",
    "        \n",
    "#----------------------更新粒子位置----------------------------------    \n",
    "    def iterator(self):    \n",
    "        fitness = []    \n",
    "        for t in range(self.max_iter):\n",
    "            print (\"[INFO] iterator: {:.0f}\".format(t))\n",
    "            start = time.clock()\n",
    "            for i in range(self.pN):         #更新gbest\\pbest    \n",
    "                temp = self.SVM_function(self.X[i])    \n",
    "                if(temp > self.p_fit[i]):      #更新个体最优    \n",
    "                    self.p_fit[i] = temp    \n",
    "                    self.pbest[i] = self.X[i]    \n",
    "                    if(self.p_fit[i] > self.fit):  #更新全局最优    \n",
    "                        self.gbest = self.X[i]    \n",
    "                        self.fit = self.p_fit[i]    \n",
    "            for i in range(self.pN):   \n",
    "                tempV = self.w*self.V[i] + self.c1*self.r1*(self.pbest[i] - self.X[i]) + \\\n",
    "                            self.c2*self.r2*(self.gbest - self.X[i])\n",
    "                tempX = self.X[i] + self.V[i]\n",
    "                if (tempX[i]> 0 for i in range( self.dim)):\n",
    "                    self.X[i] = self.X[i] + self.V[i] \n",
    "                else:\n",
    "                    self.X[i] = self.X[i] /3 * 2\n",
    "            fitness.append(self.fit) \n",
    "            print(\"[INFO] C = {:.6f}, gamma = {:.15f}, accuracy: {:.15f}%\".format( self.gbest[0], self.gbest[1], self.fit * 100))\n",
    "            elapsed = (time.clock() - start)\n",
    "            print(\"Time used:\",elapsed)\n",
    "            #print(self.fit)                   #输出最优值  \n",
    "            #print(self.gbest)                   #输出全局最佳位置   \n",
    "        return fitness    \n",
    "  \n",
    " \n",
    "#当中是你的程序\n",
    " \n"
   ]
  },
  {
   "cell_type": "code",
   "execution_count": 10,
   "metadata": {},
   "outputs": [
    {
     "name": "stdout",
     "output_type": "stream",
     "text": [
      "[INFO] 0.0 C = 0.108133, gamma = 0.128962481918432, accuracy: 67.307692307692307%\n",
      "[INFO] 1.0 C = 0.493762, gamma = 0.091702305805359, accuracy: 68.589743589743591%\n",
      "[INFO] 2.0 C = 1.354388, gamma = 0.143780505108229, accuracy: 67.307692307692307%\n",
      "[INFO] 3.0 C = 1.131256, gamma = 0.137160775357291, accuracy: 67.948717948717956%\n",
      "[INFO] 4.0 C = 1.708319, gamma = 0.161852295125444, accuracy: 67.307692307692307%\n",
      "[INFO] 5.0 C = 1.331053, gamma = 0.141875107348412, accuracy: 67.948717948717956%\n",
      "[INFO] 6.0 C = 0.719487, gamma = 0.135622194505815, accuracy: 68.589743589743591%\n",
      "[INFO] 7.0 C = 1.534878, gamma = 0.076177205931262, accuracy: 68.589743589743591%\n",
      "[INFO] 8.0 C = 0.638411, gamma = 0.141077399498453, accuracy: 69.230769230769226%\n",
      "[INFO] 9.0 C = 1.049466, gamma = 0.102010107621243, accuracy: 67.948717948717956%\n"
     ]
    }
   ],
   "source": [
    "my_pso = PSO(pN=10,max_iter=20)    \n",
    "my_pso.init_Population()    \n"
   ]
  },
  {
   "cell_type": "code",
   "execution_count": 11,
   "metadata": {},
   "outputs": [
    {
     "name": "stdout",
     "output_type": "stream",
     "text": [
      "0.6923076923076923\n",
      "[0.63841075 0.1410774 ]\n"
     ]
    }
   ],
   "source": [
    "print (my_pso.fit)\n",
    "print (my_pso.gbest)"
   ]
  },
  {
   "cell_type": "code",
   "execution_count": 12,
   "metadata": {},
   "outputs": [
    {
     "name": "stdout",
     "output_type": "stream",
     "text": [
      "[INFO] iterator: 0\n",
      "[INFO] C = 0.681137, gamma = 0.143776801787847, accuracy: 69.230769230769226%\n",
      "Time used: 1.8162630000000002\n",
      "[INFO] iterator: 1\n",
      "[INFO] C = 0.723864, gamma = 0.146476204077240, accuracy: 69.230769230769226%\n",
      "Time used: 1.804487\n",
      "[INFO] iterator: 2\n",
      "[INFO] C = 0.766591, gamma = 0.149175606366634, accuracy: 69.230769230769226%\n",
      "Time used: 1.8018920000000005\n",
      "[INFO] iterator: 3\n",
      "[INFO] C = 0.809318, gamma = 0.151875008656027, accuracy: 69.230769230769226%\n",
      "Time used: 1.7328449999999993\n",
      "[INFO] iterator: 4\n",
      "[INFO] C = 0.852044, gamma = 0.154574410945421, accuracy: 69.230769230769226%\n",
      "Time used: 1.7671459999999986\n",
      "[INFO] iterator: 5\n",
      "[INFO] C = 0.894771, gamma = 0.157273813234814, accuracy: 69.230769230769226%\n",
      "Time used: 1.7018170000000001\n",
      "[INFO] iterator: 6\n",
      "[INFO] C = 0.937498, gamma = 0.159973215524208, accuracy: 69.230769230769226%\n",
      "Time used: 1.6716379999999997\n",
      "[INFO] iterator: 7\n",
      "[INFO] C = 0.980225, gamma = 0.162672617813601, accuracy: 69.230769230769226%\n",
      "Time used: 1.6705830000000006\n",
      "[INFO] iterator: 8\n",
      "[INFO] C = 2.182518, gamma = 0.094424010334259, accuracy: 69.871794871794862%\n",
      "Time used: 1.7246769999999998\n",
      "[INFO] iterator: 9\n",
      "[INFO] C = 2.254478, gamma = 0.096451433045703, accuracy: 69.871794871794862%\n",
      "Time used: 1.7256810000000016\n",
      "[INFO] iterator: 10\n",
      "[INFO] C = 2.326438, gamma = 0.098478855757147, accuracy: 69.871794871794862%\n",
      "Time used: 1.818048000000001\n",
      "[INFO] iterator: 11\n",
      "[INFO] C = 2.398398, gamma = 0.100506278468591, accuracy: 69.871794871794862%\n",
      "Time used: 1.9552249999999987\n",
      "[INFO] iterator: 12\n",
      "[INFO] C = 2.470358, gamma = 0.102533701180036, accuracy: 69.871794871794862%\n",
      "Time used: 2.0434160000000006\n",
      "[INFO] iterator: 13\n",
      "[INFO] C = 2.542318, gamma = 0.104561123891480, accuracy: 69.871794871794862%\n",
      "Time used: 2.0470940000000013\n",
      "[INFO] iterator: 14\n",
      "[INFO] C = 2.614278, gamma = 0.106588546602924, accuracy: 69.871794871794862%\n",
      "Time used: 1.8570340000000023\n",
      "[INFO] iterator: 15\n",
      "[INFO] C = 2.686238, gamma = 0.108615969314368, accuracy: 69.871794871794862%\n",
      "Time used: 1.9279699999999949\n",
      "[INFO] iterator: 16\n",
      "[INFO] C = 2.758198, gamma = 0.110643392025812, accuracy: 69.871794871794862%\n",
      "Time used: 1.8761289999999988\n",
      "[INFO] iterator: 17\n",
      "[INFO] C = 2.830158, gamma = 0.112670814737256, accuracy: 69.871794871794862%\n",
      "Time used: 1.8478920000000016\n",
      "[INFO] iterator: 18\n",
      "[INFO] C = 2.902118, gamma = 0.114698237448700, accuracy: 69.871794871794862%\n",
      "Time used: 1.8058570000000032\n",
      "[INFO] iterator: 19\n",
      "[INFO] C = 2.974078, gamma = 0.116725660160144, accuracy: 69.871794871794862%\n",
      "Time used: 1.9797629999999984\n"
     ]
    }
   ],
   "source": [
    "fitness = my_pso.iterator() "
   ]
  },
  {
   "cell_type": "code",
   "execution_count": 13,
   "metadata": {},
   "outputs": [
    {
     "name": "stdout",
     "output_type": "stream",
     "text": [
      "\n",
      "\n",
      "[INFO] GLCM accuracy...\n",
      "C =  2.974077621887996 gamma =  0.11672566016014449\n",
      "[INFO] SVM-SVC GLCM accuracy: 67.9487179487%\n"
     ]
    },
    {
     "name": "stderr",
     "output_type": "stream",
     "text": [
      "/home/huiqy/anaconda3/lib/python3.6/site-packages/sklearn/svm/base.py:218: ConvergenceWarning: Solver terminated early (max_iter=1000).  Consider pre-processing your data with StandardScaler or MinMaxScaler.\n",
      "  % self.max_iter, ConvergenceWarning)\n"
     ]
    }
   ],
   "source": [
    "# SVC\n",
    "print(\"\\n\")\n",
    "print(\"[INFO] GLCM accuracy...\")\n",
    "print (\"C = \", my_pso.gbest[0],\"gamma = \", my_pso.gbest[1])\n",
    "model = SVC(max_iter=1000, class_weight='balanced',C = my_pso.gbest[0],gamma = my_pso.gbest[1])\n",
    "model.fit(trainImage_GLCM, trainLabels)\n",
    "acc = model.score(testImage_GLCM, testLabels)\n",
    "print(\"[INFO] SVM-SVC GLCM accuracy: {:.10f}%\".format(acc * 100))\n"
   ]
  },
  {
   "cell_type": "code",
   "execution_count": null,
   "metadata": {},
   "outputs": [],
   "source": []
  }
 ],
 "metadata": {
  "anaconda-cloud": {},
  "kernelspec": {
   "display_name": "Python 3",
   "language": "python",
   "name": "python3"
  },
  "language_info": {
   "codemirror_mode": {
    "name": "ipython",
    "version": 3
   },
   "file_extension": ".py",
   "mimetype": "text/x-python",
   "name": "python",
   "nbconvert_exporter": "python",
   "pygments_lexer": "ipython3",
   "version": "3.6.4"
  }
 },
 "nbformat": 4,
 "nbformat_minor": 2
}
