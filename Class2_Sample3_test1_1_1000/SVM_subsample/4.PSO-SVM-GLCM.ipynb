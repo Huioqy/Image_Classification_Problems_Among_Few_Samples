{
 "cells": [
  {
   "cell_type": "code",
   "execution_count": 1,
   "metadata": {},
   "outputs": [
    {
     "name": "stderr",
     "output_type": "stream",
     "text": [
      "/home/huiqy/anaconda3/lib/python3.6/site-packages/sklearn/cross_validation.py:41: DeprecationWarning: This module was deprecated in version 0.18 in favor of the model_selection module into which all the refactored classes and functions are moved. Also note that the interface of the new CV iterators are different from that of this module. This module will be removed in 0.20.\n",
      "  \"This module will be removed in 0.20.\", DeprecationWarning)\n"
     ]
    }
   ],
   "source": [
    "# coding: utf-8  \n",
    "import numpy as np    \n",
    "import random     \n",
    "import matplotlib.pyplot as plt \n",
    "from sklearn.neighbors import KNeighborsClassifier\n",
    "from sklearn.neural_network import MLPClassifier\n",
    "from sklearn.svm import SVC\n",
    "from sklearn.cross_validation import train_test_split\n",
    "from sklearn.preprocessing import StandardScaler, LabelEncoder\n",
    "from sklearn.model_selection import StratifiedShuffleSplit\n",
    "from imutils import paths\n",
    "import imutils\n",
    "import cv2\n",
    "import os\n",
    "\n",
    "import time\n"
   ]
  },
  {
   "cell_type": "code",
   "execution_count": 2,
   "metadata": {},
   "outputs": [
    {
     "name": "stdout",
     "output_type": "stream",
     "text": [
      "(6000,)\n",
      "[0 0 0 ... 1 1 1]\n",
      "(154,)\n",
      "[0 0 0 0 0 0 0 0 0 0 0 0 0 0 0 0 0 0 0 0 0 0 0 0 0 0 0 0 0 0 0 0 0 0 0 0 0\n",
      " 0 0 0 0 0 0 0 0 0 0 0 0 0 0 0 0 0 0 0 0 0 0 0 0 0 0 0 0 0 0 0 0 0 0 0 0 0\n",
      " 0 0 0 1 1 1 1 1 1 1 1 1 1 1 1 1 1 1 1 1 1 1 1 1 1 1 1 1 1 1 1 1 1 1 1 1 1\n",
      " 1 1 1 1 1 1 1 1 1 1 1 1 1 1 1 1 1 1 1 1 1 1 1 1 1 1 1 1 1 1 1 1 1 1 1 1 1\n",
      " 1 1 1 1 1 1]\n"
     ]
    }
   ],
   "source": [
    "trainLabels = np.load('./trainLabels.npy')\n",
    "testLabels= np.load('./testLabels.npy')\n",
    "\n",
    "print(trainLabels.shape)\n",
    "print(trainLabels)\n",
    "print(testLabels.shape)\n",
    "print(testLabels)"
   ]
  },
  {
   "cell_type": "code",
   "execution_count": 3,
   "metadata": {},
   "outputs": [
    {
     "name": "stdout",
     "output_type": "stream",
     "text": [
      "(6000, 12)\n",
      "[[-1.3347759   3.22487     2.5468924  ...  3.525862    2.3999379\n",
      "  -3.2993777 ]\n",
      " [ 0.21901739 -0.3327895  -0.39736557 ... -0.3762742  -0.38288367\n",
      "   0.02275246]\n",
      " [-0.8191607   0.05107579  0.93068063 ...  0.2218616   1.0064025\n",
      "  -0.9585145 ]\n",
      " ...\n",
      " [-0.50494814  1.2857084   1.2802091  ...  0.6333191   0.92966133\n",
      "  -0.8263439 ]\n",
      " [-0.7235753  -0.03339997  0.6383823  ...  0.11564232  0.78202534\n",
      "   0.1521307 ]\n",
      " [-0.57905203 -0.24489972  0.24994819 ... -0.29897386  0.345717\n",
      "   0.39669913]]\n",
      "(154, 12)\n",
      "[[-1.0588334   0.48087513  1.3892442  ...  0.24581686  1.0924485\n",
      "  -0.2082526 ]\n",
      " [-1.3297207   2.5728774   2.2438939  ...  1.5360261   1.8467422\n",
      "  -2.5511515 ]\n",
      " [ 0.19222693 -0.05851133 -0.17894164 ... -0.20964687 -0.34281367\n",
      "   0.0708397 ]\n",
      " ...\n",
      " [-1.1101733   0.9460279   1.4521909  ...  0.59439427  1.1948342\n",
      "  -2.122556  ]\n",
      " [-1.1122979   0.791466    1.3823936  ...  0.54870075  1.2160476\n",
      "  -1.5601287 ]\n",
      " [-1.2308315   1.097994    1.8341848  ...  0.7884102   1.6166309\n",
      "  -1.8011402 ]]\n"
     ]
    }
   ],
   "source": [
    "trainImage_GLCM = np.load('./trainImage_GLCM.npy')\n",
    "testImage_GLCM = np.load('./testImage_GLCM.npy')\n",
    "print(trainImage_GLCM.shape)\n",
    "print(trainImage_GLCM)\n",
    "print(testImage_GLCM.shape)\n",
    "print(testImage_GLCM)"
   ]
  },
  {
   "cell_type": "code",
   "execution_count": 4,
   "metadata": {},
   "outputs": [
    {
     "name": "stdout",
     "output_type": "stream",
     "text": [
      "(6000, 12)\n",
      "12\n",
      "0.08333333333333333\n"
     ]
    }
   ],
   "source": [
    "n_feature = trainImage_GLCM.shape[1]\n",
    "gamma_init = 1/n_feature\n",
    "print (trainImage_GLCM.shape)\n",
    "print (n_feature)\n",
    "print (gamma_init)"
   ]
  },
  {
   "cell_type": "code",
   "execution_count": 5,
   "metadata": {},
   "outputs": [
    {
     "name": "stdout",
     "output_type": "stream",
     "text": [
      "\n",
      "\n",
      "[INFO] GLCM accuracy...\n",
      "[INFO] SVM-SVC accuracy: 65.58%\n"
     ]
    },
    {
     "name": "stderr",
     "output_type": "stream",
     "text": [
      "/home/huiqy/anaconda3/lib/python3.6/site-packages/sklearn/svm/base.py:218: ConvergenceWarning: Solver terminated early (max_iter=200).  Consider pre-processing your data with StandardScaler or MinMaxScaler.\n",
      "  % self.max_iter, ConvergenceWarning)\n"
     ]
    }
   ],
   "source": [
    "# SVC\n",
    "print(\"\\n\")\n",
    "print(\"[INFO] GLCM accuracy...\")\n",
    "model_SVM = SVC(max_iter=200, class_weight='balanced' )\n",
    "model_SVM.fit(trainImage_GLCM, trainLabels)\n",
    "acc = model_SVM.score(testImage_GLCM, testLabels)\n",
    "print(\"[INFO] SVM-SVC accuracy: {:.2f}%\".format(acc * 100))"
   ]
  },
  {
   "cell_type": "code",
   "execution_count": 6,
   "metadata": {},
   "outputs": [
    {
     "name": "stdout",
     "output_type": "stream",
     "text": [
      "\n",
      "\n",
      "[INFO] GLCM accuracy...\n",
      "[INFO] SVM-SVC accuracy: 65.58%\n"
     ]
    },
    {
     "name": "stderr",
     "output_type": "stream",
     "text": [
      "/home/huiqy/anaconda3/lib/python3.6/site-packages/sklearn/svm/base.py:218: ConvergenceWarning: Solver terminated early (max_iter=1000).  Consider pre-processing your data with StandardScaler or MinMaxScaler.\n",
      "  % self.max_iter, ConvergenceWarning)\n"
     ]
    }
   ],
   "source": [
    "# SVC\n",
    "print(\"\\n\")\n",
    "print(\"[INFO] GLCM accuracy...\")\n",
    "model_SVM = SVC(max_iter=1000, class_weight='balanced' )\n",
    "model_SVM.fit(trainImage_GLCM, trainLabels)\n",
    "acc = model_SVM.score(testImage_GLCM, testLabels)\n",
    "print(\"[INFO] SVM-SVC accuracy: {:.2f}%\".format(acc * 100))"
   ]
  },
  {
   "cell_type": "code",
   "execution_count": 7,
   "metadata": {},
   "outputs": [
    {
     "name": "stdout",
     "output_type": "stream",
     "text": [
      "\n",
      "\n",
      "[INFO] GLCM accuracy...\n",
      "[INFO] SVM-SVC accuracy: 65.58%\n"
     ]
    }
   ],
   "source": [
    "# SVC\n",
    "print(\"\\n\")\n",
    "print(\"[INFO] GLCM accuracy...\")\n",
    "model_SVM = SVC(max_iter=10000, class_weight='balanced' )\n",
    "model_SVM.fit(trainImage_GLCM, trainLabels)\n",
    "acc = model_SVM.score(testImage_GLCM, testLabels)\n",
    "print(\"[INFO] SVM-SVC accuracy: {:.2f}%\".format(acc * 100))"
   ]
  },
  {
   "cell_type": "code",
   "execution_count": 8,
   "metadata": {},
   "outputs": [
    {
     "data": {
      "text/plain": [
       "SVC(C=1.0, cache_size=200, class_weight='balanced', coef0=0.0,\n",
       "  decision_function_shape='ovr', degree=3, gamma='auto', kernel='rbf',\n",
       "  max_iter=10000, probability=False, random_state=None, shrinking=True,\n",
       "  tol=0.001, verbose=False)"
      ]
     },
     "execution_count": 8,
     "metadata": {},
     "output_type": "execute_result"
    }
   ],
   "source": [
    "model_SVM"
   ]
  },
  {
   "cell_type": "code",
   "execution_count": 9,
   "metadata": {},
   "outputs": [],
   "source": [
    "#----------------------PSO参数设置---------------------------------    \n",
    "class PSO():    \n",
    "    def __init__(self,pN,max_iter):    \n",
    "        self.w = 0.8      \n",
    "        self.c1 = 1  \n",
    "        self.r1= 0.6 \n",
    "        self.c2 = 1       \n",
    "        self.r2=0.3    \n",
    "        self.pN = pN                #粒子数量    \n",
    "        self.dim = 2                #搜索维度    C & gamma\n",
    "        self.max_iter = max_iter    #迭代次数    \n",
    "        self.X = np.zeros((self.pN,self.dim))       #所有粒子的位置度    \n",
    "        self.V = np.zeros((self.pN,self.dim))       #所有粒子的速度  \n",
    "        self.pbest = np.zeros((self.pN,self.dim))   #个体经历的最佳位置   \n",
    "        self.gbest = np.zeros((1,self.dim))         #全局最佳位置    \n",
    "        self.p_fit = np.zeros(self.pN)              #每个个体的历史最佳适应值    \n",
    "        self.fit = 0.300000000             #全局最佳适应值    \n",
    "        \n",
    "#---------------------目标函数SVM----------------------------    \n",
    "    def SVM_function(self,x):    \n",
    "        clf = SVC(max_iter=10000, class_weight='balanced' ,C = x[0], gamma = x[1])\n",
    "        clf.fit(trainImage_GLCM, trainLabels)\n",
    "        acc = clf.score(testImage_GLCM, testLabels)\n",
    "        #print(\"[INFO] C = {:.10f}, gamma = {:.10f}, accuracy: {:.2f}%\".format(x[0], x[1], acc * 100))\n",
    "        return acc  \n",
    "    \n",
    "#---------------------初始化种群----------------------------------    \n",
    "    def init_Population(self):    \n",
    "        for i in range(self.pN):     #粒子数量\n",
    "#             for j in range(self.dim):  #搜索维度\n",
    "            self.X[i][0] = random.uniform(0,2)  #C  \n",
    "            self.V[i][0] = random.uniform(0,0.1)  \n",
    "            self.X[i][1] = random.uniform(gamma_init/2,gamma_init*2)    #gamma\n",
    "            self.V[i][1] = random.uniform(gamma_init/100,gamma_init/10)    \n",
    "            self.pbest[i] = self.X[i]    \n",
    "            tmp = self.SVM_function(self.X[i])\n",
    "            print(\"[INFO] {:.1f} C = {:.6f}, gamma = {:.15f}, accuracy: {:.15f}%\".format(i, self.X[i][0], self.X[i][1], tmp * 100))\n",
    "            self.p_fit[i] = tmp    #每个个体的历史最佳适应值 \n",
    "            if(tmp > self.fit):    \n",
    "                self.fit = tmp    \n",
    "                self.gbest = self.X[i]    \n",
    "        \n",
    "#----------------------更新粒子位置----------------------------------    \n",
    "    def iterator(self):    \n",
    "        fitness = []    \n",
    "        for t in range(self.max_iter):\n",
    "            print (\"[INFO] iterator: {:.0f}\".format(t))\n",
    "            start = time.clock()\n",
    "            for i in range(self.pN):         #更新gbest\\pbest    \n",
    "                temp = self.SVM_function(self.X[i])    \n",
    "                if(temp > self.p_fit[i]):      #更新个体最优    \n",
    "                    self.p_fit[i] = temp    \n",
    "                    self.pbest[i] = self.X[i]    \n",
    "                    if(self.p_fit[i] > self.fit):  #更新全局最优    \n",
    "                        self.gbest = self.X[i]    \n",
    "                        self.fit = self.p_fit[i]    \n",
    "            for i in range(self.pN):   \n",
    "                tempV = self.w*self.V[i] + self.c1*self.r1*(self.pbest[i] - self.X[i]) + \\\n",
    "                            self.c2*self.r2*(self.gbest - self.X[i])\n",
    "                tempX = self.X[i] + self.V[i]\n",
    "                if (tempX[i]> 0 for i in range( self.dim)):\n",
    "                    self.X[i] = self.X[i] + self.V[i] \n",
    "                else:\n",
    "                    self.X[i] = self.X[i] /3 * 2\n",
    "            fitness.append(self.fit) \n",
    "            print(\"[INFO] C = {:.6f}, gamma = {:.15f}, accuracy: {:.15f}%\".format( self.gbest[0], self.gbest[1], self.fit * 100))\n",
    "            elapsed = (time.clock() - start)\n",
    "            print(\"Time used:\",elapsed)\n",
    "            #print(self.fit)                   #输出最优值  \n",
    "            #print(self.gbest)                   #输出全局最佳位置   \n",
    "        return fitness    \n",
    "  \n",
    " \n",
    "#当中是你的程序\n",
    " \n"
   ]
  },
  {
   "cell_type": "code",
   "execution_count": 10,
   "metadata": {},
   "outputs": [
    {
     "name": "stdout",
     "output_type": "stream",
     "text": [
      "[INFO] 0.0 C = 0.532462, gamma = 0.119206330361880, accuracy: 67.532467532467535%\n",
      "[INFO] 1.0 C = 0.025426, gamma = 0.115886602515535, accuracy: 62.987012987012989%\n",
      "[INFO] 2.0 C = 0.846601, gamma = 0.108726769435019, accuracy: 66.233766233766232%\n",
      "[INFO] 3.0 C = 1.664172, gamma = 0.048673370224075, accuracy: 66.233766233766232%\n",
      "[INFO] 4.0 C = 1.365057, gamma = 0.068528733882659, accuracy: 64.935064935064929%\n",
      "[INFO] 5.0 C = 1.230309, gamma = 0.073405056936012, accuracy: 65.584415584415595%\n",
      "[INFO] 6.0 C = 0.000196, gamma = 0.051309154008883, accuracy: 44.155844155844157%\n",
      "[INFO] 7.0 C = 1.746972, gamma = 0.145018148868178, accuracy: 66.883116883116884%\n",
      "[INFO] 8.0 C = 1.581859, gamma = 0.114723091498470, accuracy: 66.233766233766232%\n",
      "[INFO] 9.0 C = 1.971846, gamma = 0.146332772317505, accuracy: 66.233766233766232%\n"
     ]
    }
   ],
   "source": [
    "my_pso = PSO(pN=10,max_iter=20)    \n",
    "my_pso.init_Population()    \n"
   ]
  },
  {
   "cell_type": "code",
   "execution_count": 11,
   "metadata": {},
   "outputs": [
    {
     "name": "stdout",
     "output_type": "stream",
     "text": [
      "0.6753246753246753\n",
      "[0.53246227 0.11920633]\n"
     ]
    }
   ],
   "source": [
    "print (my_pso.fit)\n",
    "print (my_pso.gbest)"
   ]
  },
  {
   "cell_type": "code",
   "execution_count": 12,
   "metadata": {},
   "outputs": [
    {
     "name": "stdout",
     "output_type": "stream",
     "text": [
      "[INFO] iterator: 0\n",
      "[INFO] C = 0.604033, gamma = 0.125024833344631, accuracy: 67.532467532467535%\n",
      "Time used: 7.604208000000002\n",
      "[INFO] iterator: 1\n",
      "[INFO] C = 0.675605, gamma = 0.130843336327381, accuracy: 67.532467532467535%\n",
      "Time used: 5.433159\n",
      "[INFO] iterator: 2\n",
      "[INFO] C = 0.747176, gamma = 0.136661839310131, accuracy: 67.532467532467535%\n",
      "Time used: 5.057284000000003\n",
      "[INFO] iterator: 3\n",
      "[INFO] C = 0.818747, gamma = 0.142480342292881, accuracy: 67.532467532467535%\n",
      "Time used: 4.832629000000001\n",
      "[INFO] iterator: 4\n",
      "[INFO] C = 0.890318, gamma = 0.148298845275632, accuracy: 67.532467532467535%\n",
      "Time used: 4.606398999999996\n",
      "[INFO] iterator: 5\n",
      "[INFO] C = 0.961889, gamma = 0.154117348258382, accuracy: 67.532467532467535%\n",
      "Time used: 4.424940999999997\n",
      "[INFO] iterator: 6\n",
      "[INFO] C = 1.033461, gamma = 0.159935851241132, accuracy: 67.532467532467535%\n",
      "Time used: 5.093360000000004\n",
      "[INFO] iterator: 7\n",
      "[INFO] C = 1.105032, gamma = 0.165754354223882, accuracy: 67.532467532467535%\n",
      "Time used: 5.011465000000001\n",
      "[INFO] iterator: 8\n",
      "[INFO] C = 1.176603, gamma = 0.171572857206632, accuracy: 67.532467532467535%\n",
      "Time used: 5.072915999999999\n",
      "[INFO] iterator: 9\n",
      "[INFO] C = 1.248174, gamma = 0.177391360189383, accuracy: 67.532467532467535%\n",
      "Time used: 4.534835000000001\n",
      "[INFO] iterator: 10\n",
      "[INFO] C = 1.319745, gamma = 0.183209863172133, accuracy: 67.532467532467535%\n",
      "Time used: 5.0472719999999995\n",
      "[INFO] iterator: 11\n",
      "[INFO] C = 0.792418, gamma = 0.178621885610641, accuracy: 68.181818181818173%\n",
      "Time used: 5.415335999999996\n",
      "[INFO] iterator: 12\n",
      "[INFO] C = 0.856334, gamma = 0.183849825868567, accuracy: 68.181818181818173%\n",
      "Time used: 4.598009999999988\n",
      "[INFO] iterator: 13\n",
      "[INFO] C = 0.920250, gamma = 0.189077766126492, accuracy: 68.181818181818173%\n",
      "Time used: 4.76521000000001\n",
      "[INFO] iterator: 14\n",
      "[INFO] C = 0.984166, gamma = 0.194305706384418, accuracy: 68.181818181818173%\n",
      "Time used: 4.579481000000001\n",
      "[INFO] iterator: 15\n",
      "[INFO] C = 1.048082, gamma = 0.199533646642343, accuracy: 68.181818181818173%\n",
      "Time used: 4.401511999999997\n",
      "[INFO] iterator: 16\n",
      "[INFO] C = 1.111998, gamma = 0.204761586900269, accuracy: 68.181818181818173%\n",
      "Time used: 4.446090999999996\n",
      "[INFO] iterator: 17\n",
      "[INFO] C = 3.743867, gamma = 0.234069643584796, accuracy: 68.831168831168839%\n",
      "Time used: 4.1649690000000135\n",
      "[INFO] iterator: 18\n",
      "[INFO] C = 3.842313, gamma = 0.238943914210757, accuracy: 70.129870129870127%\n",
      "Time used: 5.064813999999998\n",
      "[INFO] iterator: 19\n",
      "[INFO] C = 3.940758, gamma = 0.243818184836717, accuracy: 70.129870129870127%\n",
      "Time used: 4.427252999999993\n"
     ]
    }
   ],
   "source": [
    "fitness = my_pso.iterator() "
   ]
  },
  {
   "cell_type": "code",
   "execution_count": 13,
   "metadata": {},
   "outputs": [
    {
     "name": "stdout",
     "output_type": "stream",
     "text": [
      "\n",
      "\n",
      "[INFO] GLCM accuracy...\n",
      "C =  3.940758301064426 gamma =  0.24381818483671713\n",
      "[INFO] SVM-SVC GLCM accuracy: 68.8311688312%\n"
     ]
    },
    {
     "name": "stderr",
     "output_type": "stream",
     "text": [
      "/home/huiqy/anaconda3/lib/python3.6/site-packages/sklearn/svm/base.py:218: ConvergenceWarning: Solver terminated early (max_iter=1000).  Consider pre-processing your data with StandardScaler or MinMaxScaler.\n",
      "  % self.max_iter, ConvergenceWarning)\n"
     ]
    }
   ],
   "source": [
    "# SVC\n",
    "print(\"\\n\")\n",
    "print(\"[INFO] GLCM accuracy...\")\n",
    "print (\"C = \", my_pso.gbest[0],\"gamma = \", my_pso.gbest[1])\n",
    "model = SVC(max_iter=1000, class_weight='balanced',C = my_pso.gbest[0],gamma = my_pso.gbest[1])\n",
    "model.fit(trainImage_GLCM, trainLabels)\n",
    "acc = model.score(testImage_GLCM, testLabels)\n",
    "print(\"[INFO] SVM-SVC GLCM accuracy: {:.10f}%\".format(acc * 100))\n"
   ]
  },
  {
   "cell_type": "code",
   "execution_count": null,
   "metadata": {},
   "outputs": [],
   "source": []
  }
 ],
 "metadata": {
  "anaconda-cloud": {},
  "kernelspec": {
   "display_name": "Python 3",
   "language": "python",
   "name": "python3"
  },
  "language_info": {
   "codemirror_mode": {
    "name": "ipython",
    "version": 3
   },
   "file_extension": ".py",
   "mimetype": "text/x-python",
   "name": "python",
   "nbconvert_exporter": "python",
   "pygments_lexer": "ipython3",
   "version": "3.6.4"
  }
 },
 "nbformat": 4,
 "nbformat_minor": 2
}
