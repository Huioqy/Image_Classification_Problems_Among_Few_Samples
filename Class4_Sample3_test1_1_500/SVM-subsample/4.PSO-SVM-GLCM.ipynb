{
 "cells": [
  {
   "cell_type": "code",
   "execution_count": 1,
   "metadata": {},
   "outputs": [
    {
     "name": "stderr",
     "output_type": "stream",
     "text": [
      "/home/huiqy/anaconda3/lib/python3.6/site-packages/sklearn/cross_validation.py:41: DeprecationWarning: This module was deprecated in version 0.18 in favor of the model_selection module into which all the refactored classes and functions are moved. Also note that the interface of the new CV iterators are different from that of this module. This module will be removed in 0.20.\n",
      "  \"This module will be removed in 0.20.\", DeprecationWarning)\n"
     ]
    }
   ],
   "source": [
    "# coding: utf-8  \n",
    "import numpy as np    \n",
    "import random     \n",
    "import matplotlib.pyplot as plt \n",
    "from sklearn.neighbors import KNeighborsClassifier\n",
    "from sklearn.neural_network import MLPClassifier\n",
    "from sklearn.svm import SVC\n",
    "from sklearn.cross_validation import train_test_split\n",
    "from sklearn.preprocessing import StandardScaler, LabelEncoder\n",
    "from sklearn.model_selection import StratifiedShuffleSplit\n",
    "from imutils import paths\n",
    "import imutils\n",
    "import cv2\n",
    "import os\n",
    "\n",
    "import time\n"
   ]
  },
  {
   "cell_type": "code",
   "execution_count": 2,
   "metadata": {},
   "outputs": [
    {
     "name": "stdout",
     "output_type": "stream",
     "text": [
      "(6000,)\n",
      "[0 0 0 ... 3 3 3]\n",
      "(308,)\n",
      "[0 0 0 0 0 0 0 0 0 0 0 0 0 0 0 0 0 0 0 0 0 0 0 0 0 0 0 0 0 0 0 0 0 0 0 0 0\n",
      " 0 0 0 0 0 0 0 0 0 0 0 0 0 0 0 0 0 0 0 0 0 0 0 0 0 0 0 0 0 0 0 0 0 0 0 0 0\n",
      " 0 0 0 1 1 1 1 1 1 1 1 1 1 1 1 1 1 1 1 1 1 1 1 1 1 1 1 1 1 1 1 1 1 1 1 1 1\n",
      " 1 1 1 1 1 1 1 1 1 1 1 1 1 1 1 1 1 1 1 1 1 1 1 1 1 1 1 1 1 1 1 1 1 1 1 1 1\n",
      " 1 1 1 1 1 1 2 2 2 2 2 2 2 2 2 2 2 2 2 2 2 2 2 2 2 2 2 2 2 2 2 2 2 2 2 2 2\n",
      " 2 2 2 2 2 2 2 2 2 2 2 2 2 2 2 2 2 2 2 2 2 2 2 2 2 2 2 2 2 2 2 2 2 2 2 2 2\n",
      " 2 2 2 2 2 2 2 2 2 3 3 3 3 3 3 3 3 3 3 3 3 3 3 3 3 3 3 3 3 3 3 3 3 3 3 3 3\n",
      " 3 3 3 3 3 3 3 3 3 3 3 3 3 3 3 3 3 3 3 3 3 3 3 3 3 3 3 3 3 3 3 3 3 3 3 3 3\n",
      " 3 3 3 3 3 3 3 3 3 3 3 3]\n"
     ]
    }
   ],
   "source": [
    "trainLabels = np.load('./trainLabels.npy')\n",
    "testLabels= np.load('./testLabels.npy')\n",
    "\n",
    "print(trainLabels.shape)\n",
    "print(trainLabels)\n",
    "print(testLabels.shape)\n",
    "print(testLabels)"
   ]
  },
  {
   "cell_type": "code",
   "execution_count": 3,
   "metadata": {},
   "outputs": [
    {
     "name": "stdout",
     "output_type": "stream",
     "text": [
      "(6000, 12)\n",
      "[[-1.3248521   4.9254727   3.0832818  ...  5.412379    2.8666325\n",
      "  -4.1344676 ]\n",
      " [ 0.04147242 -0.3553673  -0.75854176 ... -0.41699857 -0.7891495\n",
      "  -0.4919622 ]\n",
      " [-0.5136527   0.07029047  0.41572398 ...  0.16097045  0.53164005\n",
      "  -1.1856267 ]\n",
      " ...\n",
      " [-0.7576268   2.5216963   1.9044834  ...  1.635548    1.5565232\n",
      "  -1.291458  ]\n",
      " [-0.86744183  0.04951969  1.0831684  ...  0.01393998  1.0396934\n",
      "  -0.5089902 ]\n",
      " [-0.8470147  -0.14314722  0.8430648  ... -0.11297907  0.7474958\n",
      "  -0.00581129]]\n",
      "(308, 12)\n",
      "[[-0.94400644  0.2364806   1.2465484  ...  0.05410983  0.99044794\n",
      "   0.02169426]\n",
      " [-1.1975977   2.0066526   2.1573155  ...  1.2152743   1.8136313\n",
      "  -2.2185466 ]\n",
      " [ 0.22717425 -0.21992747 -0.4246064  ... -0.35579917 -0.5758969\n",
      "   0.28855765]\n",
      " ...\n",
      " [ 0.14081094 -0.2761041  -0.6775445  ... -0.40552148 -0.849417\n",
      "   0.81256914]\n",
      " [-1.1222605   1.542748    1.9623796  ...  1.3010525   1.7721547\n",
      "  -2.5719197 ]\n",
      " [-0.95947033  1.3164897   1.4501044  ...  1.1210209   1.3158065\n",
      "  -1.7517638 ]]\n"
     ]
    }
   ],
   "source": [
    "trainImage_GLCM = np.load('./trainImage_GLCM.npy')\n",
    "testImage_GLCM = np.load('./testImage_GLCM.npy')\n",
    "print(trainImage_GLCM.shape)\n",
    "print(trainImage_GLCM)\n",
    "print(testImage_GLCM.shape)\n",
    "print(testImage_GLCM)"
   ]
  },
  {
   "cell_type": "code",
   "execution_count": 4,
   "metadata": {},
   "outputs": [
    {
     "name": "stdout",
     "output_type": "stream",
     "text": [
      "(6000, 12)\n",
      "12\n",
      "0.08333333333333333\n"
     ]
    }
   ],
   "source": [
    "n_feature = trainImage_GLCM.shape[1]\n",
    "gamma_init = 1/n_feature\n",
    "print (trainImage_GLCM.shape)\n",
    "print (n_feature)\n",
    "print (gamma_init)"
   ]
  },
  {
   "cell_type": "code",
   "execution_count": 5,
   "metadata": {},
   "outputs": [
    {
     "name": "stdout",
     "output_type": "stream",
     "text": [
      "\n",
      "\n",
      "[INFO] GLCM accuracy...\n",
      "[INFO] SVM-SVC accuracy: 28.25%\n"
     ]
    },
    {
     "name": "stderr",
     "output_type": "stream",
     "text": [
      "/home/huiqy/anaconda3/lib/python3.6/site-packages/sklearn/svm/base.py:218: ConvergenceWarning: Solver terminated early (max_iter=200).  Consider pre-processing your data with StandardScaler or MinMaxScaler.\n",
      "  % self.max_iter, ConvergenceWarning)\n"
     ]
    }
   ],
   "source": [
    "# SVC\n",
    "print(\"\\n\")\n",
    "print(\"[INFO] GLCM accuracy...\")\n",
    "model_SVM = SVC(max_iter=200, class_weight='balanced' )\n",
    "model_SVM.fit(trainImage_GLCM, trainLabels)\n",
    "acc = model_SVM.score(testImage_GLCM, testLabels)\n",
    "print(\"[INFO] SVM-SVC accuracy: {:.2f}%\".format(acc * 100))"
   ]
  },
  {
   "cell_type": "code",
   "execution_count": 6,
   "metadata": {},
   "outputs": [
    {
     "name": "stdout",
     "output_type": "stream",
     "text": [
      "\n",
      "\n",
      "[INFO] GLCM accuracy...\n",
      "[INFO] SVM-SVC accuracy: 48.70%\n"
     ]
    },
    {
     "name": "stderr",
     "output_type": "stream",
     "text": [
      "/home/huiqy/anaconda3/lib/python3.6/site-packages/sklearn/svm/base.py:218: ConvergenceWarning: Solver terminated early (max_iter=1000).  Consider pre-processing your data with StandardScaler or MinMaxScaler.\n",
      "  % self.max_iter, ConvergenceWarning)\n"
     ]
    }
   ],
   "source": [
    "# SVC\n",
    "print(\"\\n\")\n",
    "print(\"[INFO] GLCM accuracy...\")\n",
    "model_SVM = SVC(max_iter=1000, class_weight='balanced' )\n",
    "model_SVM.fit(trainImage_GLCM, trainLabels)\n",
    "acc = model_SVM.score(testImage_GLCM, testLabels)\n",
    "print(\"[INFO] SVM-SVC accuracy: {:.2f}%\".format(acc * 100))"
   ]
  },
  {
   "cell_type": "code",
   "execution_count": 7,
   "metadata": {},
   "outputs": [
    {
     "name": "stdout",
     "output_type": "stream",
     "text": [
      "\n",
      "\n",
      "[INFO] GLCM accuracy...\n",
      "[INFO] SVM-SVC accuracy: 48.05%\n"
     ]
    }
   ],
   "source": [
    "# SVC\n",
    "print(\"\\n\")\n",
    "print(\"[INFO] GLCM accuracy...\")\n",
    "model_SVM = SVC(max_iter=10000, class_weight='balanced' )\n",
    "model_SVM.fit(trainImage_GLCM, trainLabels)\n",
    "acc = model_SVM.score(testImage_GLCM, testLabels)\n",
    "print(\"[INFO] SVM-SVC accuracy: {:.2f}%\".format(acc * 100))"
   ]
  },
  {
   "cell_type": "code",
   "execution_count": 8,
   "metadata": {},
   "outputs": [
    {
     "data": {
      "text/plain": [
       "SVC(C=1.0, cache_size=200, class_weight='balanced', coef0=0.0,\n",
       "  decision_function_shape='ovr', degree=3, gamma='auto', kernel='rbf',\n",
       "  max_iter=10000, probability=False, random_state=None, shrinking=True,\n",
       "  tol=0.001, verbose=False)"
      ]
     },
     "execution_count": 8,
     "metadata": {},
     "output_type": "execute_result"
    }
   ],
   "source": [
    "model_SVM"
   ]
  },
  {
   "cell_type": "code",
   "execution_count": 9,
   "metadata": {},
   "outputs": [],
   "source": [
    "#----------------------PSO参数设置---------------------------------    \n",
    "class PSO():    \n",
    "    def __init__(self,pN,max_iter):    \n",
    "        self.w = 0.8      \n",
    "        self.c1 = 1  \n",
    "        self.r1= 0.6 \n",
    "        self.c2 = 1       \n",
    "        self.r2=0.3    \n",
    "        self.pN = pN                #粒子数量    \n",
    "        self.dim = 2                #搜索维度    C & gamma\n",
    "        self.max_iter = max_iter    #迭代次数    \n",
    "        self.X = np.zeros((self.pN,self.dim))       #所有粒子的位置度    \n",
    "        self.V = np.zeros((self.pN,self.dim))       #所有粒子的速度  \n",
    "        self.pbest = np.zeros((self.pN,self.dim))   #个体经历的最佳位置   \n",
    "        self.gbest = np.zeros((1,self.dim))         #全局最佳位置    \n",
    "        self.p_fit = np.zeros(self.pN)              #每个个体的历史最佳适应值    \n",
    "        self.fit = 0.300000000             #全局最佳适应值    \n",
    "        \n",
    "#---------------------目标函数SVM----------------------------    \n",
    "    def SVM_function(self,x):    \n",
    "        clf = SVC(max_iter=10000, class_weight='balanced' ,C = x[0], gamma = x[1])\n",
    "        clf.fit(trainImage_GLCM, trainLabels)\n",
    "        acc = clf.score(testImage_GLCM, testLabels)\n",
    "        #print(\"[INFO] C = {:.10f}, gamma = {:.10f}, accuracy: {:.2f}%\".format(x[0], x[1], acc * 100))\n",
    "        return acc  \n",
    "    \n",
    "#---------------------初始化种群----------------------------------    \n",
    "    def init_Population(self):    \n",
    "        for i in range(self.pN):     #粒子数量\n",
    "#             for j in range(self.dim):  #搜索维度\n",
    "            self.X[i][0] = random.uniform(0,2)  #C  \n",
    "            self.V[i][0] = random.uniform(0,0.1)  \n",
    "            self.X[i][1] = random.uniform(gamma_init/2,gamma_init*2)    #gamma\n",
    "            self.V[i][1] = random.uniform(gamma_init/100,gamma_init/10)    \n",
    "            self.pbest[i] = self.X[i]    \n",
    "            tmp = self.SVM_function(self.X[i])\n",
    "            print(\"[INFO] {:.1f} C = {:.6f}, gamma = {:.15f}, accuracy: {:.15f}%\".format(i, self.X[i][0], self.X[i][1], tmp * 100))\n",
    "            self.p_fit[i] = tmp    #每个个体的历史最佳适应值 \n",
    "            if(tmp > self.fit):    \n",
    "                self.fit = tmp    \n",
    "                self.gbest = self.X[i]    \n",
    "        \n",
    "#----------------------更新粒子位置----------------------------------    \n",
    "    def iterator(self):    \n",
    "        fitness = []    \n",
    "        for t in range(self.max_iter):\n",
    "            print (\"[INFO] iterator: {:.0f}\".format(t))\n",
    "            start = time.clock()\n",
    "            for i in range(self.pN):         #更新gbest\\pbest    \n",
    "                temp = self.SVM_function(self.X[i])    \n",
    "                if(temp > self.p_fit[i]):      #更新个体最优    \n",
    "                    self.p_fit[i] = temp    \n",
    "                    self.pbest[i] = self.X[i]    \n",
    "                    if(self.p_fit[i] > self.fit):  #更新全局最优    \n",
    "                        self.gbest = self.X[i]    \n",
    "                        self.fit = self.p_fit[i]    \n",
    "            for i in range(self.pN):   \n",
    "                tempV = self.w*self.V[i] + self.c1*self.r1*(self.pbest[i] - self.X[i]) + \\\n",
    "                            self.c2*self.r2*(self.gbest - self.X[i])\n",
    "                tempX = self.X[i] + self.V[i]\n",
    "                if (tempX[i]> 0 for i in range( self.dim)):\n",
    "                    self.X[i] = self.X[i] + self.V[i] \n",
    "                else:\n",
    "                    self.X[i] = self.X[i] /3 * 2\n",
    "            fitness.append(self.fit) \n",
    "            print(\"[INFO] C = {:.6f}, gamma = {:.15f}, accuracy: {:.15f}%\".format( self.gbest[0], self.gbest[1], self.fit * 100))\n",
    "            elapsed = (time.clock() - start)\n",
    "            print(\"Time used:\",elapsed)\n",
    "            #print(self.fit)                   #输出最优值  \n",
    "            #print(self.gbest)                   #输出全局最佳位置   \n",
    "        return fitness    \n",
    "  \n",
    " \n",
    "#当中是你的程序\n",
    " \n"
   ]
  },
  {
   "cell_type": "code",
   "execution_count": 10,
   "metadata": {},
   "outputs": [
    {
     "name": "stdout",
     "output_type": "stream",
     "text": [
      "[INFO] 0.0 C = 1.601921, gamma = 0.113128847871117, accuracy: 48.051948051948052%\n",
      "[INFO] 1.0 C = 0.331479, gamma = 0.159616461757590, accuracy: 46.103896103896105%\n",
      "[INFO] 2.0 C = 1.088695, gamma = 0.062776101519326, accuracy: 48.051948051948052%\n",
      "[INFO] 3.0 C = 1.471961, gamma = 0.063455135790043, accuracy: 47.402597402597401%\n",
      "[INFO] 4.0 C = 1.605338, gamma = 0.100746757434824, accuracy: 47.727272727272727%\n",
      "[INFO] 5.0 C = 1.213368, gamma = 0.126714549775444, accuracy: 47.727272727272727%\n",
      "[INFO] 6.0 C = 0.526712, gamma = 0.133123628762078, accuracy: 47.402597402597401%\n",
      "[INFO] 7.0 C = 1.294850, gamma = 0.051361300878408, accuracy: 49.350649350649348%\n",
      "[INFO] 8.0 C = 0.935734, gamma = 0.104493850859295, accuracy: 47.727272727272727%\n",
      "[INFO] 9.0 C = 1.944976, gamma = 0.122477267480874, accuracy: 46.428571428571431%\n"
     ]
    }
   ],
   "source": [
    "my_pso = PSO(pN=10,max_iter=20)    \n",
    "my_pso.init_Population()    \n"
   ]
  },
  {
   "cell_type": "code",
   "execution_count": 11,
   "metadata": {},
   "outputs": [
    {
     "name": "stdout",
     "output_type": "stream",
     "text": [
      "0.4935064935064935\n",
      "[1.29484994 0.0513613 ]\n"
     ]
    }
   ],
   "source": [
    "print (my_pso.fit)\n",
    "print (my_pso.gbest)"
   ]
  },
  {
   "cell_type": "code",
   "execution_count": 12,
   "metadata": {},
   "outputs": [
    {
     "name": "stdout",
     "output_type": "stream",
     "text": [
      "[INFO] iterator: 0\n",
      "[INFO] C = 1.315080, gamma = 0.056825695253552, accuracy: 49.350649350649348%\n",
      "Time used: 17.682966000000004\n",
      "[INFO] iterator: 1\n",
      "[INFO] C = 1.335310, gamma = 0.062290089628697, accuracy: 49.350649350649348%\n",
      "Time used: 16.798125000000006\n",
      "[INFO] iterator: 2\n",
      "[INFO] C = 1.355539, gamma = 0.067754484003841, accuracy: 49.350649350649348%\n",
      "Time used: 16.352273999999994\n",
      "[INFO] iterator: 3\n",
      "[INFO] C = 1.375769, gamma = 0.073218878378985, accuracy: 49.350649350649348%\n",
      "Time used: 16.531836999999996\n",
      "[INFO] iterator: 4\n",
      "[INFO] C = 1.395999, gamma = 0.078683272754129, accuracy: 49.350649350649348%\n",
      "Time used: 16.78498400000001\n",
      "[INFO] iterator: 5\n",
      "[INFO] C = 1.416229, gamma = 0.084147667129274, accuracy: 49.350649350649348%\n",
      "Time used: 15.908623000000006\n",
      "[INFO] iterator: 6\n",
      "[INFO] C = 1.436458, gamma = 0.089612061504418, accuracy: 49.350649350649348%\n",
      "Time used: 16.80864000000001\n",
      "[INFO] iterator: 7\n",
      "[INFO] C = 1.456688, gamma = 0.095076455879562, accuracy: 49.350649350649348%\n",
      "Time used: 16.774054000000007\n",
      "[INFO] iterator: 8\n",
      "[INFO] C = 1.476918, gamma = 0.100540850254706, accuracy: 49.350649350649348%\n",
      "Time used: 17.17997600000001\n",
      "[INFO] iterator: 9\n",
      "[INFO] C = 1.497148, gamma = 0.106005244629851, accuracy: 49.350649350649348%\n",
      "Time used: 18.006364999999988\n",
      "[INFO] iterator: 10\n",
      "[INFO] C = 1.517378, gamma = 0.111469639004995, accuracy: 49.350649350649348%\n",
      "Time used: 16.79690099999999\n",
      "[INFO] iterator: 11\n",
      "[INFO] C = 1.537607, gamma = 0.116934033380139, accuracy: 49.350649350649348%\n",
      "Time used: 16.356279\n",
      "[INFO] iterator: 12\n",
      "[INFO] C = 1.557837, gamma = 0.122398427755283, accuracy: 49.350649350649348%\n",
      "Time used: 16.89819799999998\n",
      "[INFO] iterator: 13\n",
      "[INFO] C = 1.578067, gamma = 0.127862822130428, accuracy: 49.350649350649348%\n",
      "Time used: 16.606869000000017\n",
      "[INFO] iterator: 14\n",
      "[INFO] C = 1.598297, gamma = 0.133327216505572, accuracy: 49.350649350649348%\n",
      "Time used: 16.67571700000002\n",
      "[INFO] iterator: 15\n",
      "[INFO] C = 1.618526, gamma = 0.138791610880716, accuracy: 49.350649350649348%\n",
      "Time used: 16.761548000000005\n",
      "[INFO] iterator: 16\n",
      "[INFO] C = 1.638756, gamma = 0.144256005255860, accuracy: 49.350649350649348%\n",
      "Time used: 16.73008100000004\n",
      "[INFO] iterator: 17\n",
      "[INFO] C = 1.658986, gamma = 0.149720399631005, accuracy: 49.350649350649348%\n",
      "Time used: 17.94225399999999\n",
      "[INFO] iterator: 18\n",
      "[INFO] C = 1.679216, gamma = 0.155184794006149, accuracy: 49.350649350649348%\n",
      "Time used: 15.85015199999998\n",
      "[INFO] iterator: 19\n",
      "[INFO] C = 1.699446, gamma = 0.160649188381293, accuracy: 49.350649350649348%\n",
      "Time used: 15.418002000000001\n"
     ]
    }
   ],
   "source": [
    "fitness = my_pso.iterator() "
   ]
  },
  {
   "cell_type": "code",
   "execution_count": 13,
   "metadata": {},
   "outputs": [
    {
     "name": "stdout",
     "output_type": "stream",
     "text": [
      "\n",
      "\n",
      "[INFO] GLCM accuracy...\n",
      "C =  1.699445547779763 gamma =  0.16064918838129325\n",
      "[INFO] SVM-SVC GLCM accuracy: 47.7272727273%\n"
     ]
    },
    {
     "name": "stderr",
     "output_type": "stream",
     "text": [
      "/home/huiqy/anaconda3/lib/python3.6/site-packages/sklearn/svm/base.py:218: ConvergenceWarning: Solver terminated early (max_iter=1000).  Consider pre-processing your data with StandardScaler or MinMaxScaler.\n",
      "  % self.max_iter, ConvergenceWarning)\n"
     ]
    }
   ],
   "source": [
    "# SVC\n",
    "print(\"\\n\")\n",
    "print(\"[INFO] GLCM accuracy...\")\n",
    "print (\"C = \", my_pso.gbest[0],\"gamma = \", my_pso.gbest[1])\n",
    "model = SVC(max_iter=1000, class_weight='balanced',C = my_pso.gbest[0],gamma = my_pso.gbest[1])\n",
    "model.fit(trainImage_GLCM, trainLabels)\n",
    "acc = model.score(testImage_GLCM, testLabels)\n",
    "print(\"[INFO] SVM-SVC GLCM accuracy: {:.10f}%\".format(acc * 100))\n"
   ]
  },
  {
   "cell_type": "code",
   "execution_count": null,
   "metadata": {},
   "outputs": [],
   "source": []
  }
 ],
 "metadata": {
  "anaconda-cloud": {},
  "kernelspec": {
   "display_name": "Python 3",
   "language": "python",
   "name": "python3"
  },
  "language_info": {
   "codemirror_mode": {
    "name": "ipython",
    "version": 3
   },
   "file_extension": ".py",
   "mimetype": "text/x-python",
   "name": "python",
   "nbconvert_exporter": "python",
   "pygments_lexer": "ipython3",
   "version": "3.6.4"
  }
 },
 "nbformat": 4,
 "nbformat_minor": 2
}
