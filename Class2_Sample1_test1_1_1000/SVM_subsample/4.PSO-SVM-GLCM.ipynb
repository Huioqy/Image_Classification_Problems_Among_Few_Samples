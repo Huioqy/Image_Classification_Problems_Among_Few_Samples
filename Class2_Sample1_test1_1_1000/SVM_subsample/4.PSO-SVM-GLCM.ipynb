{
 "cells": [
  {
   "cell_type": "code",
   "execution_count": 1,
   "metadata": {},
   "outputs": [
    {
     "name": "stderr",
     "output_type": "stream",
     "text": [
      "/home/huiqy/anaconda3/lib/python3.6/site-packages/sklearn/cross_validation.py:41: DeprecationWarning: This module was deprecated in version 0.18 in favor of the model_selection module into which all the refactored classes and functions are moved. Also note that the interface of the new CV iterators are different from that of this module. This module will be removed in 0.20.\n",
      "  \"This module will be removed in 0.20.\", DeprecationWarning)\n"
     ]
    }
   ],
   "source": [
    "# coding: utf-8  \n",
    "import numpy as np    \n",
    "import random     \n",
    "import matplotlib.pyplot as plt \n",
    "from sklearn.neighbors import KNeighborsClassifier\n",
    "from sklearn.neural_network import MLPClassifier\n",
    "from sklearn.svm import SVC\n",
    "from sklearn.cross_validation import train_test_split\n",
    "from sklearn.preprocessing import StandardScaler, LabelEncoder\n",
    "from sklearn.model_selection import StratifiedShuffleSplit\n",
    "from imutils import paths\n",
    "import imutils\n",
    "import cv2\n",
    "import os\n",
    "\n",
    "import time\n"
   ]
  },
  {
   "cell_type": "code",
   "execution_count": 2,
   "metadata": {},
   "outputs": [
    {
     "name": "stdout",
     "output_type": "stream",
     "text": [
      "(2000,)\n",
      "[0 0 0 ... 1 1 1]\n",
      "(158,)\n",
      "[0 0 0 0 0 0 0 0 0 0 0 0 0 0 0 0 0 0 0 0 0 0 0 0 0 0 0 0 0 0 0 0 0 0 0 0 0\n",
      " 0 0 0 0 0 0 0 0 0 0 0 0 0 0 0 0 0 0 0 0 0 0 0 0 0 0 0 0 0 0 0 0 0 0 0 0 0\n",
      " 0 0 0 0 0 1 1 1 1 1 1 1 1 1 1 1 1 1 1 1 1 1 1 1 1 1 1 1 1 1 1 1 1 1 1 1 1\n",
      " 1 1 1 1 1 1 1 1 1 1 1 1 1 1 1 1 1 1 1 1 1 1 1 1 1 1 1 1 1 1 1 1 1 1 1 1 1\n",
      " 1 1 1 1 1 1 1 1 1 1]\n"
     ]
    }
   ],
   "source": [
    "trainLabels = np.load('./trainLabels.npy')\n",
    "testLabels= np.load('./testLabels.npy')\n",
    "\n",
    "print(trainLabels.shape)\n",
    "print(trainLabels)\n",
    "print(testLabels.shape)\n",
    "print(testLabels)"
   ]
  },
  {
   "cell_type": "code",
   "execution_count": 3,
   "metadata": {},
   "outputs": [
    {
     "name": "stdout",
     "output_type": "stream",
     "text": [
      "(2000, 12)\n",
      "[[-0.11221609 -0.4198627  -0.44607392 ... -0.5064787  -0.582972\n",
      "   0.7123028 ]\n",
      " [-0.04063464 -0.45227814 -0.4907895  ... -0.41842258 -0.38600415\n",
      "   0.4172648 ]\n",
      " [-0.03548339 -0.557005   -0.6262269  ... -0.5315485  -0.49385703\n",
      "   0.9833238 ]\n",
      " ...\n",
      " [ 0.795624   -0.57071924 -1.2949396  ... -0.53242654 -0.9589653\n",
      "   0.75472635]\n",
      " [ 0.26651862  0.01921094 -0.2623008  ...  0.18036385 -0.26600096\n",
      "   0.29667202]\n",
      " [-0.531915   -0.14046636  0.4560234  ... -0.2763451   0.31207797\n",
      "  -0.20902616]]\n",
      "(158, 12)\n",
      "[[-1.4790074   0.54677254  2.0335143  ...  0.34885123  1.7346108\n",
      "  -0.38719666]\n",
      " [-1.7862017   2.8577766   3.0821428  ...  1.8683338   2.6730235\n",
      "  -2.9670317 ]\n",
      " [-0.06026763 -0.0490797   0.10939892 ... -0.18754958 -0.05099122\n",
      "  -0.07987989]\n",
      " ...\n",
      " [-1.5372283   1.0606198   2.1107478  ...  0.75937176  1.8619885\n",
      "  -2.4950926 ]\n",
      " [-1.5396377   0.88987774  2.0251088  ...  0.70555836  1.8883799\n",
      "  -1.8757873 ]\n",
      " [-1.6740583   1.2284945   2.5794423  ...  0.98786485  2.3867435\n",
      "  -2.1411722 ]]\n"
     ]
    }
   ],
   "source": [
    "trainImage_GLCM = np.load('./trainImage_GLCM.npy')\n",
    "testImage_GLCM = np.load('./testImage_GLCM.npy')\n",
    "print(trainImage_GLCM.shape)\n",
    "print(trainImage_GLCM)\n",
    "print(testImage_GLCM.shape)\n",
    "print(testImage_GLCM)"
   ]
  },
  {
   "cell_type": "code",
   "execution_count": 4,
   "metadata": {},
   "outputs": [
    {
     "name": "stdout",
     "output_type": "stream",
     "text": [
      "(2000, 12)\n",
      "12\n",
      "0.08333333333333333\n"
     ]
    }
   ],
   "source": [
    "n_feature = trainImage_GLCM.shape[1]\n",
    "gamma_init = 1/n_feature\n",
    "print (trainImage_GLCM.shape)\n",
    "print (n_feature)\n",
    "print (gamma_init)"
   ]
  },
  {
   "cell_type": "code",
   "execution_count": 5,
   "metadata": {},
   "outputs": [
    {
     "name": "stdout",
     "output_type": "stream",
     "text": [
      "\n",
      "\n",
      "[INFO] GLCM accuracy...\n",
      "[INFO] SVM-SVC accuracy: 53.16%\n"
     ]
    },
    {
     "name": "stderr",
     "output_type": "stream",
     "text": [
      "/home/huiqy/anaconda3/lib/python3.6/site-packages/sklearn/svm/base.py:218: ConvergenceWarning: Solver terminated early (max_iter=200).  Consider pre-processing your data with StandardScaler or MinMaxScaler.\n",
      "  % self.max_iter, ConvergenceWarning)\n"
     ]
    }
   ],
   "source": [
    "# SVC\n",
    "print(\"\\n\")\n",
    "print(\"[INFO] GLCM accuracy...\")\n",
    "model_SVM = SVC(max_iter=200, class_weight='balanced' )\n",
    "model_SVM.fit(trainImage_GLCM, trainLabels)\n",
    "acc = model_SVM.score(testImage_GLCM, testLabels)\n",
    "print(\"[INFO] SVM-SVC accuracy: {:.2f}%\".format(acc * 100))"
   ]
  },
  {
   "cell_type": "code",
   "execution_count": 6,
   "metadata": {},
   "outputs": [
    {
     "name": "stdout",
     "output_type": "stream",
     "text": [
      "\n",
      "\n",
      "[INFO] GLCM accuracy...\n",
      "[INFO] SVM-SVC accuracy: 37.97%\n"
     ]
    },
    {
     "name": "stderr",
     "output_type": "stream",
     "text": [
      "/home/huiqy/anaconda3/lib/python3.6/site-packages/sklearn/svm/base.py:218: ConvergenceWarning: Solver terminated early (max_iter=1000).  Consider pre-processing your data with StandardScaler or MinMaxScaler.\n",
      "  % self.max_iter, ConvergenceWarning)\n"
     ]
    }
   ],
   "source": [
    "# SVC\n",
    "print(\"\\n\")\n",
    "print(\"[INFO] GLCM accuracy...\")\n",
    "model_SVM = SVC(max_iter=1000, class_weight='balanced' )\n",
    "model_SVM.fit(trainImage_GLCM, trainLabels)\n",
    "acc = model_SVM.score(testImage_GLCM, testLabels)\n",
    "print(\"[INFO] SVM-SVC accuracy: {:.2f}%\".format(acc * 100))"
   ]
  },
  {
   "cell_type": "code",
   "execution_count": 7,
   "metadata": {},
   "outputs": [
    {
     "name": "stdout",
     "output_type": "stream",
     "text": [
      "\n",
      "\n",
      "[INFO] GLCM accuracy...\n",
      "[INFO] SVM-SVC accuracy: 37.97%\n"
     ]
    }
   ],
   "source": [
    "# SVC\n",
    "print(\"\\n\")\n",
    "print(\"[INFO] GLCM accuracy...\")\n",
    "model_SVM = SVC(max_iter=10000, class_weight='balanced' )\n",
    "model_SVM.fit(trainImage_GLCM, trainLabels)\n",
    "acc = model_SVM.score(testImage_GLCM, testLabels)\n",
    "print(\"[INFO] SVM-SVC accuracy: {:.2f}%\".format(acc * 100))"
   ]
  },
  {
   "cell_type": "code",
   "execution_count": 8,
   "metadata": {},
   "outputs": [
    {
     "data": {
      "text/plain": [
       "SVC(C=1.0, cache_size=200, class_weight='balanced', coef0=0.0,\n",
       "  decision_function_shape='ovr', degree=3, gamma='auto', kernel='rbf',\n",
       "  max_iter=10000, probability=False, random_state=None, shrinking=True,\n",
       "  tol=0.001, verbose=False)"
      ]
     },
     "execution_count": 8,
     "metadata": {},
     "output_type": "execute_result"
    }
   ],
   "source": [
    "model_SVM"
   ]
  },
  {
   "cell_type": "code",
   "execution_count": 9,
   "metadata": {},
   "outputs": [],
   "source": [
    "#----------------------PSO参数设置---------------------------------    \n",
    "class PSO():    \n",
    "    def __init__(self,pN,max_iter):    \n",
    "        self.w = 0.8      \n",
    "        self.c1 = 1  \n",
    "        self.r1= 0.6 \n",
    "        self.c2 = 1       \n",
    "        self.r2=0.3    \n",
    "        self.pN = pN                #粒子数量    \n",
    "        self.dim = 2                #搜索维度    C & gamma\n",
    "        self.max_iter = max_iter    #迭代次数    \n",
    "        self.X = np.zeros((self.pN,self.dim))       #所有粒子的位置度    \n",
    "        self.V = np.zeros((self.pN,self.dim))       #所有粒子的速度  \n",
    "        self.pbest = np.zeros((self.pN,self.dim))   #个体经历的最佳位置   \n",
    "        self.gbest = np.zeros((1,self.dim))         #全局最佳位置    \n",
    "        self.p_fit = np.zeros(self.pN)              #每个个体的历史最佳适应值    \n",
    "        self.fit = 0.300000000             #全局最佳适应值    \n",
    "        \n",
    "#---------------------目标函数SVM----------------------------    \n",
    "    def SVM_function(self,x):    \n",
    "        clf = SVC(max_iter=10000, class_weight='balanced' ,C = x[0], gamma = x[1])\n",
    "        clf.fit(trainImage_GLCM, trainLabels)\n",
    "        acc = clf.score(testImage_GLCM, testLabels)\n",
    "        #print(\"[INFO] C = {:.10f}, gamma = {:.10f}, accuracy: {:.2f}%\".format(x[0], x[1], acc * 100))\n",
    "        return acc  \n",
    "    \n",
    "#---------------------初始化种群----------------------------------    \n",
    "    def init_Population(self):    \n",
    "        for i in range(self.pN):     #粒子数量\n",
    "#             for j in range(self.dim):  #搜索维度\n",
    "            self.X[i][0] = random.uniform(0,2)  #C  \n",
    "            self.V[i][0] = random.uniform(0,0.1)  \n",
    "            self.X[i][1] = random.uniform(gamma_init/2,gamma_init*2)    #gamma\n",
    "            self.V[i][1] = random.uniform(gamma_init/100,gamma_init/10)    \n",
    "            self.pbest[i] = self.X[i]    \n",
    "            tmp = self.SVM_function(self.X[i])\n",
    "            print(\"[INFO] {:.1f} C = {:.6f}, gamma = {:.15f}, accuracy: {:.15f}%\".format(i, self.X[i][0], self.X[i][1], tmp * 100))\n",
    "            self.p_fit[i] = tmp    #每个个体的历史最佳适应值 \n",
    "            if(tmp > self.fit):    \n",
    "                self.fit = tmp    \n",
    "                self.gbest = self.X[i]    \n",
    "        \n",
    "#----------------------更新粒子位置----------------------------------    \n",
    "    def iterator(self):    \n",
    "        fitness = []    \n",
    "        for t in range(self.max_iter):\n",
    "            print (\"[INFO] iterator: {:.0f}\".format(t))\n",
    "            start = time.clock()\n",
    "            for i in range(self.pN):         #更新gbest\\pbest    \n",
    "                temp = self.SVM_function(self.X[i])    \n",
    "                if(temp > self.p_fit[i]):      #更新个体最优    \n",
    "                    self.p_fit[i] = temp    \n",
    "                    self.pbest[i] = self.X[i]    \n",
    "                    if(self.p_fit[i] > self.fit):  #更新全局最优    \n",
    "                        self.gbest = self.X[i]    \n",
    "                        self.fit = self.p_fit[i]    \n",
    "            for i in range(self.pN):   \n",
    "                tempV = self.w*self.V[i] + self.c1*self.r1*(self.pbest[i] - self.X[i]) + \\\n",
    "                            self.c2*self.r2*(self.gbest - self.X[i])\n",
    "                tempX = self.X[i] + self.V[i]\n",
    "                if (tempX[i]> 0 for i in range( self.dim)):\n",
    "                    self.X[i] = self.X[i] + self.V[i] \n",
    "                else:\n",
    "                    self.X[i] = self.X[i] /3 * 2\n",
    "            fitness.append(self.fit) \n",
    "            print(\"[INFO] C = {:.6f}, gamma = {:.15f}, accuracy: {:.15f}%\".format( self.gbest[0], self.gbest[1], self.fit * 100))\n",
    "            elapsed = (time.clock() - start)\n",
    "            print(\"Time used:\",elapsed)\n",
    "            #print(self.fit)                   #输出最优值  \n",
    "            #print(self.gbest)                   #输出全局最佳位置   \n",
    "        return fitness    \n",
    "  \n",
    " \n",
    "#当中是你的程序\n",
    " \n"
   ]
  },
  {
   "cell_type": "code",
   "execution_count": 10,
   "metadata": {},
   "outputs": [
    {
     "name": "stdout",
     "output_type": "stream",
     "text": [
      "[INFO] 0.0 C = 1.176916, gamma = 0.083938235024012, accuracy: 37.341772151898731%\n",
      "[INFO] 1.0 C = 0.816573, gamma = 0.165714956125967, accuracy: 34.810126582278485%\n",
      "[INFO] 2.0 C = 1.440649, gamma = 0.114228660344878, accuracy: 36.075949367088604%\n",
      "[INFO] 3.0 C = 1.929203, gamma = 0.084285611780665, accuracy: 39.240506329113920%\n",
      "[INFO] 4.0 C = 1.587686, gamma = 0.077589886622935, accuracy: 36.708860759493675%\n",
      "[INFO] 5.0 C = 1.261311, gamma = 0.078807925247581, accuracy: 37.341772151898731%\n",
      "[INFO] 6.0 C = 1.763762, gamma = 0.147048383449042, accuracy: 37.974683544303801%\n",
      "[INFO] 7.0 C = 1.027564, gamma = 0.141678022523683, accuracy: 34.810126582278485%\n",
      "[INFO] 8.0 C = 1.516360, gamma = 0.149002647193387, accuracy: 36.708860759493675%\n",
      "[INFO] 9.0 C = 0.018796, gamma = 0.058520087464425, accuracy: 37.341772151898731%\n"
     ]
    }
   ],
   "source": [
    "my_pso = PSO(pN=10,max_iter=20)    \n",
    "my_pso.init_Population()    \n"
   ]
  },
  {
   "cell_type": "code",
   "execution_count": 11,
   "metadata": {},
   "outputs": [
    {
     "name": "stdout",
     "output_type": "stream",
     "text": [
      "0.3924050632911392\n",
      "[1.92920332 0.08428561]\n"
     ]
    }
   ],
   "source": [
    "print (my_pso.fit)\n",
    "print (my_pso.gbest)"
   ]
  },
  {
   "cell_type": "code",
   "execution_count": 12,
   "metadata": {},
   "outputs": [
    {
     "name": "stdout",
     "output_type": "stream",
     "text": [
      "[INFO] iterator: 0\n",
      "[INFO] C = 1.936570, gamma = 0.091978726621427, accuracy: 39.240506329113920%\n",
      "Time used: 1.3396849999999998\n",
      "[INFO] iterator: 1\n",
      "[INFO] C = 1.943936, gamma = 0.099671841462190, accuracy: 39.873417721518990%\n",
      "Time used: 1.3536640000000002\n",
      "[INFO] iterator: 2\n",
      "[INFO] C = 1.951302, gamma = 0.107364956302952, accuracy: 39.873417721518990%\n",
      "Time used: 1.4328889999999994\n",
      "[INFO] iterator: 3\n",
      "[INFO] C = 1.958669, gamma = 0.115058071143715, accuracy: 39.873417721518990%\n",
      "Time used: 1.4216480000000011\n",
      "[INFO] iterator: 4\n",
      "[INFO] C = 1.966035, gamma = 0.122751185984477, accuracy: 39.873417721518990%\n",
      "Time used: 1.4101009999999992\n",
      "[INFO] iterator: 5\n",
      "[INFO] C = 1.973401, gamma = 0.130444300825240, accuracy: 40.506329113924053%\n",
      "Time used: 1.3164280000000002\n",
      "[INFO] iterator: 6\n",
      "[INFO] C = 1.980768, gamma = 0.138137415666002, accuracy: 40.506329113924053%\n",
      "Time used: 1.3914489999999997\n",
      "[INFO] iterator: 7\n",
      "[INFO] C = 1.988134, gamma = 0.145830530506765, accuracy: 40.506329113924053%\n",
      "Time used: 1.3700530000000004\n",
      "[INFO] iterator: 8\n",
      "[INFO] C = 1.995500, gamma = 0.153523645347528, accuracy: 40.506329113924053%\n",
      "Time used: 1.4116090000000003\n",
      "[INFO] iterator: 9\n",
      "[INFO] C = 2.002866, gamma = 0.161216760188290, accuracy: 40.506329113924053%\n",
      "Time used: 1.387774000000002\n",
      "[INFO] iterator: 10\n",
      "[INFO] C = 2.010233, gamma = 0.168909875029053, accuracy: 40.506329113924053%\n",
      "Time used: 1.3364450000000012\n",
      "[INFO] iterator: 11\n",
      "[INFO] C = 2.017599, gamma = 0.176602989869815, accuracy: 40.506329113924053%\n",
      "Time used: 1.2850189999999984\n",
      "[INFO] iterator: 12\n",
      "[INFO] C = 2.024965, gamma = 0.184296104710578, accuracy: 40.506329113924053%\n",
      "Time used: 1.279329999999998\n",
      "[INFO] iterator: 13\n",
      "[INFO] C = 2.032332, gamma = 0.191989219551340, accuracy: 40.506329113924053%\n",
      "Time used: 1.2473859999999988\n",
      "[INFO] iterator: 14\n",
      "[INFO] C = 2.039698, gamma = 0.199682334392103, accuracy: 40.506329113924053%\n",
      "Time used: 1.240082000000001\n",
      "[INFO] iterator: 15\n",
      "[INFO] C = 2.047064, gamma = 0.207375449232865, accuracy: 40.506329113924053%\n",
      "Time used: 1.311902\n",
      "[INFO] iterator: 16\n",
      "[INFO] C = 2.054431, gamma = 0.215068564073628, accuracy: 40.506329113924053%\n",
      "Time used: 1.226158999999999\n",
      "[INFO] iterator: 17\n",
      "[INFO] C = 2.061797, gamma = 0.222761678914390, accuracy: 40.506329113924053%\n",
      "Time used: 1.2003799999999991\n",
      "[INFO] iterator: 18\n",
      "[INFO] C = 2.069163, gamma = 0.230454793755153, accuracy: 40.506329113924053%\n",
      "Time used: 1.2492409999999978\n",
      "[INFO] iterator: 19\n",
      "[INFO] C = 2.076530, gamma = 0.238147908595916, accuracy: 40.506329113924053%\n",
      "Time used: 1.2407339999999998\n"
     ]
    }
   ],
   "source": [
    "fitness = my_pso.iterator() "
   ]
  },
  {
   "cell_type": "code",
   "execution_count": 13,
   "metadata": {},
   "outputs": [
    {
     "name": "stdout",
     "output_type": "stream",
     "text": [
      "\n",
      "\n",
      "[INFO] GLCM accuracy...\n",
      "C =  2.0765295748584127 gamma =  0.23814790859591553\n",
      "[INFO] SVM-SVC GLCM accuracy: 39.2405063291%\n"
     ]
    },
    {
     "name": "stderr",
     "output_type": "stream",
     "text": [
      "/home/huiqy/anaconda3/lib/python3.6/site-packages/sklearn/svm/base.py:218: ConvergenceWarning: Solver terminated early (max_iter=1000).  Consider pre-processing your data with StandardScaler or MinMaxScaler.\n",
      "  % self.max_iter, ConvergenceWarning)\n"
     ]
    }
   ],
   "source": [
    "# SVC\n",
    "print(\"\\n\")\n",
    "print(\"[INFO] GLCM accuracy...\")\n",
    "print (\"C = \", my_pso.gbest[0],\"gamma = \", my_pso.gbest[1])\n",
    "model = SVC(max_iter=1000, class_weight='balanced',C = my_pso.gbest[0],gamma = my_pso.gbest[1])\n",
    "model.fit(trainImage_GLCM, trainLabels)\n",
    "acc = model.score(testImage_GLCM, testLabels)\n",
    "print(\"[INFO] SVM-SVC GLCM accuracy: {:.10f}%\".format(acc * 100))\n"
   ]
  },
  {
   "cell_type": "code",
   "execution_count": null,
   "metadata": {},
   "outputs": [],
   "source": []
  }
 ],
 "metadata": {
  "anaconda-cloud": {},
  "kernelspec": {
   "display_name": "Python 3",
   "language": "python",
   "name": "python3"
  },
  "language_info": {
   "codemirror_mode": {
    "name": "ipython",
    "version": 3
   },
   "file_extension": ".py",
   "mimetype": "text/x-python",
   "name": "python",
   "nbconvert_exporter": "python",
   "pygments_lexer": "ipython3",
   "version": "3.6.4"
  }
 },
 "nbformat": 4,
 "nbformat_minor": 2
}
